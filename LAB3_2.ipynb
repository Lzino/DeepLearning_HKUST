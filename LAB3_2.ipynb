{
 "cells": [
  {
   "cell_type": "code",
   "execution_count": 1,
   "metadata": {
    "collapsed": true
   },
   "outputs": [],
   "source": [
    "import tensorflow as tf"
   ]
  },
  {
   "cell_type": "code",
   "execution_count": 2,
   "metadata": {
    "collapsed": false
   },
   "outputs": [],
   "source": [
    "x_data = [1,2,3]\n",
    "y_data = [1,2,3]\n",
    "\n",
    "W = tf.Variable(tf.random_normal([1]), name='weight')\n",
    "X = tf.placeholder(tf.float32)\n",
    "Y = tf.placeholder(tf.float32)"
   ]
  },
  {
   "cell_type": "code",
   "execution_count": 3,
   "metadata": {
    "collapsed": true
   },
   "outputs": [],
   "source": [
    "hypothesis = X * W\n",
    "\n",
    "cost = tf.reduce_sum(tf.square(hypothesis - Y))"
   ]
  },
  {
   "cell_type": "code",
   "execution_count": 4,
   "metadata": {
    "collapsed": false
   },
   "outputs": [],
   "source": [
    "learning_rate = 0.1\n",
    "gradient = tf.reduce_mean((W*X-Y)*X)\n",
    "descent = W - learning_rate * gradient\n",
    "update = W.assign(descent)\n",
    "\n",
    "#Minimize : GD using erivative: W -= learning_rate * derivative\n",
    "\n",
    "#optimizer = tf.train.GradientDescentOptimaizer(learing_rate = 0.1)\n",
    "#train = optimizer.minize(cost)"
   ]
  },
  {
   "cell_type": "code",
   "execution_count": 5,
   "metadata": {
    "collapsed": true
   },
   "outputs": [],
   "source": [
    "sess = tf.Session()\n",
    "sess.run(tf.global_variables_initializer())"
   ]
  },
  {
   "cell_type": "code",
   "execution_count": 6,
   "metadata": {
    "collapsed": false
   },
   "outputs": [
    {
     "name": "stdout",
     "output_type": "stream",
     "text": [
      "0 6.14231 [ 0.33762807]\n",
      "1 1.74715 [ 0.64673495]\n",
      "2 0.496966 [ 0.81159198]\n",
      "3 0.141359 [ 0.89951575]\n",
      "4 0.0402088 [ 0.94640839]\n",
      "5 0.0114372 [ 0.97141778]\n",
      "6 0.00325325 [ 0.98475617]\n",
      "7 0.000925357 [ 0.99186999]\n",
      "8 0.000263216 [ 0.995664]\n",
      "9 7.48682e-05 [ 0.99768746]\n",
      "10 2.12958e-05 [ 0.99876666]\n",
      "11 6.05775e-06 [ 0.9993422]\n",
      "12 1.72292e-06 [ 0.99964917]\n",
      "13 4.90017e-07 [ 0.9998129]\n",
      "14 1.39451e-07 [ 0.99990022]\n",
      "15 3.96826e-08 [ 0.99994677]\n",
      "16 1.12694e-08 [ 0.99997163]\n",
      "17 3.19808e-09 [ 0.99998486]\n",
      "18 9.19954e-10 [ 0.99999189]\n",
      "19 2.66613e-10 [ 0.99999565]\n",
      "20 7.48237e-11 [ 0.99999768]\n"
     ]
    }
   ],
   "source": [
    "for step in range(21):\n",
    "    sess.run(update, feed_dict = {X: x_data, Y: y_data})\n",
    "    print(step, sess.run(cost, feed_dict = { X: x_data, Y : y_data}), sess.run(W))"
   ]
  },
  {
   "cell_type": "code",
   "execution_count": null,
   "metadata": {
    "collapsed": true
   },
   "outputs": [],
   "source": []
  }
 ],
 "metadata": {
  "kernelspec": {
   "display_name": "Python 3",
   "language": "python",
   "name": "python3"
  },
  "language_info": {
   "codemirror_mode": {
    "name": "ipython",
    "version": 3
   },
   "file_extension": ".py",
   "mimetype": "text/x-python",
   "name": "python",
   "nbconvert_exporter": "python",
   "pygments_lexer": "ipython3",
   "version": "3.6.0"
  }
 },
 "nbformat": 4,
 "nbformat_minor": 2
}
