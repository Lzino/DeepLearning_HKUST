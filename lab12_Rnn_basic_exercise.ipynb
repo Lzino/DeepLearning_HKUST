{
 "cells": [
  {
   "cell_type": "code",
   "execution_count": 1,
   "metadata": {},
   "outputs": [
    {
     "name": "stderr",
     "output_type": "stream",
     "text": [
      "/home/lwd/anaconda3/lib/python3.6/importlib/_bootstrap.py:205: RuntimeWarning: compiletime version 3.5 of module 'tensorflow.python.framework.fast_tensor_util' does not match runtime version 3.6\n",
      "  return f(*args, **kwds)\n"
     ]
    }
   ],
   "source": [
    "# http://www.wildml.com/2016/08/rnns-in-tensorflow-a-practical-guide-and-undocumented-features/\n",
    "# http://learningtensorflow.com/index.html\n",
    "# http://suriyadeepan.github.io/2016-12-31-practical-seq2seq/\n",
    "\n",
    "import tensorflow as tf\n",
    "import numpy as np\n",
    "from tensorflow.contrib import rnn\n",
    "import pprint\n",
    "pp = pprint.PrettyPrinter(indent=4)\n",
    "sess = tf.InteractiveSession()"
   ]
  },
  {
   "cell_type": "code",
   "execution_count": 2,
   "metadata": {
    "collapsed": true
   },
   "outputs": [],
   "source": [
    "# One hot encoding for each char in 'hello'\n",
    "h = [1,0,0,0]\n",
    "e = [0,1,0,0]\n",
    "l = [0,0,1,0]\n",
    "o = [0,0,0,1]"
   ]
  },
  {
   "cell_type": "code",
   "execution_count": 3,
   "metadata": {},
   "outputs": [
    {
     "name": "stdout",
     "output_type": "stream",
     "text": [
      "2 2\n",
      "array([[[ 1.,  0.,  0.,  0.]]], dtype=float32)\n",
      "array([[[-0.19180335, -0.20729323]]], dtype=float32)\n"
     ]
    }
   ],
   "source": [
    "with tf.variable_scope('one_cell') as scope:\n",
    "    #One cell RNN input_dimension(4) > output_dimension(2)\n",
    "    hidden_size = 2\n",
    "    cell = tf.contrib.rnn.BasicRNNCell(num_units = hidden_size)\n",
    "    print(cell.output_size, cell.state_size)\n",
    "    \n",
    "    x_data = np.array([[h]], dtype = np.float32)\n",
    "    pp.pprint(x_data)\n",
    "    outputs, __states = tf.nn.dynamic_rnn(cell, x_data, dtype = tf.float32)\n",
    "    \n",
    "    sess.run(tf.global_variables_initializer())\n",
    "    pp.pprint(outputs.eval())"
   ]
  },
  {
   "cell_type": "code",
   "execution_count": 4,
   "metadata": {},
   "outputs": [
    {
     "name": "stdout",
     "output_type": "stream",
     "text": [
      "(1, 5, 4)\n",
      "array([[[ 1.,  0.,  0.,  0.],\n",
      "        [ 0.,  1.,  0.,  0.],\n",
      "        [ 0.,  0.,  1.,  0.],\n",
      "        [ 0.,  0.,  1.,  0.],\n",
      "        [ 0.,  0.,  0.,  1.]]], dtype=float32)\n",
      "array([[[-0.21681549,  0.107999  ],\n",
      "        [ 0.13126054, -0.66313225],\n",
      "        [ 0.07383975,  0.260234  ],\n",
      "        [-0.44577998,  0.57388037],\n",
      "        [-0.61432111,  0.37480065]]], dtype=float32)\n"
     ]
    }
   ],
   "source": [
    "with tf.variable_scope('two_sequances') as scope:\n",
    "    # One cell RNN input_dim (4) -> output_dim (2). sequence: 5\n",
    "    hidden_size = 2\n",
    "    cell = tf.contrib.rnn.BasicRNNCell(num_units=hidden_size)\n",
    "    x_data = np.array([[h, e, l, l, o]], dtype=np.float32)\n",
    "    print(x_data.shape)\n",
    "    pp.pprint(x_data)\n",
    "    outputs, states = tf.nn.dynamic_rnn(cell, x_data, dtype=tf.float32)\n",
    "    sess.run(tf.global_variables_initializer())\n",
    "    pp.pprint(outputs.eval())"
   ]
  },
  {
   "cell_type": "code",
   "execution_count": 5,
   "metadata": {
    "scrolled": true
   },
   "outputs": [
    {
     "name": "stdout",
     "output_type": "stream",
     "text": [
      "array([[[ 1.,  0.,  0.,  0.],\n",
      "        [ 0.,  1.,  0.,  0.],\n",
      "        [ 0.,  0.,  1.,  0.],\n",
      "        [ 0.,  0.,  1.,  0.],\n",
      "        [ 0.,  0.,  0.,  1.]],\n",
      "\n",
      "       [[ 0.,  1.,  0.,  0.],\n",
      "        [ 0.,  0.,  0.,  1.],\n",
      "        [ 0.,  0.,  1.,  0.],\n",
      "        [ 0.,  0.,  1.,  0.],\n",
      "        [ 0.,  0.,  1.,  0.]],\n",
      "\n",
      "       [[ 0.,  0.,  1.,  0.],\n",
      "        [ 0.,  0.,  1.,  0.],\n",
      "        [ 0.,  1.,  0.,  0.],\n",
      "        [ 0.,  1.,  0.,  0.],\n",
      "        [ 0.,  0.,  1.,  0.]]], dtype=float32)\n",
      "array([[[ 0.10205432, -0.10704225],\n",
      "        [ 0.05542676,  0.056013  ],\n",
      "        [-0.07504582,  0.05161975],\n",
      "        [-0.15610306,  0.03271016],\n",
      "        [-0.01430461, -0.04531785]],\n",
      "\n",
      "       [[-0.00358438,  0.12237688],\n",
      "        [ 0.10282844,  0.02416404],\n",
      "        [-0.04606458,  0.03290601],\n",
      "        [-0.13857228,  0.01826296],\n",
      "        [-0.19378875, -0.00334   ]],\n",
      "\n",
      "       [[-0.11062634, -0.00725166],\n",
      "        [-0.17678702, -0.02380757],\n",
      "        [-0.0998603 ,  0.09164002],\n",
      "        [-0.06348366,  0.18677522],\n",
      "        [-0.1528257 ,  0.17216459]]], dtype=float32)\n"
     ]
    }
   ],
   "source": [
    "with tf.variable_scope('3_batches') as socpe:\n",
    "    # One cell RNN input_dim (4) -> output_dim (2). sequence: 5, batch 3\n",
    "    # 3 batches 'hello', 'eolll', 'lleel'\n",
    "    x_data = np.array([[h, e, l, l, o], [e, o, l, l, l], [l, l, e, e, l]], dtype=np.float32)   \n",
    "    pp.pprint(x_data)\n",
    "    \n",
    "    hidden_size = 2\n",
    "    cell = rnn.BasicLSTMCell(num_units = hidden_size, state_is_tuple = True)\n",
    "    outputs, _stats = tf.nn.dynamic_rnn(\n",
    "        cell, x_data, dtype = tf.float32)\n",
    "    sess.run(tf.global_variables_initializer())\n",
    "    pp.pprint(outputs.eval())"
   ]
  },
  {
   "cell_type": "code",
   "execution_count": 6,
   "metadata": {},
   "outputs": [
    {
     "name": "stdout",
     "output_type": "stream",
     "text": [
      "array([[[ 1.,  0.,  0.,  0.],\n",
      "        [ 0.,  1.,  0.,  0.],\n",
      "        [ 0.,  0.,  1.,  0.],\n",
      "        [ 0.,  0.,  1.,  0.],\n",
      "        [ 0.,  0.,  0.,  1.]],\n",
      "\n",
      "       [[ 0.,  1.,  0.,  0.],\n",
      "        [ 0.,  0.,  0.,  1.],\n",
      "        [ 0.,  0.,  1.,  0.],\n",
      "        [ 0.,  0.,  1.,  0.],\n",
      "        [ 0.,  0.,  1.,  0.]],\n",
      "\n",
      "       [[ 0.,  0.,  1.,  0.],\n",
      "        [ 0.,  0.,  1.,  0.],\n",
      "        [ 0.,  1.,  0.,  0.],\n",
      "        [ 0.,  1.,  0.,  0.],\n",
      "        [ 0.,  0.,  1.,  0.]]], dtype=float32)\n",
      "array([[[-0.08248758, -0.03244053],\n",
      "        [-0.09800835,  0.01116376],\n",
      "        [-0.113546  ,  0.09895334],\n",
      "        [-0.0784886 ,  0.14840914],\n",
      "        [-0.12572694,  0.24575712]],\n",
      "\n",
      "       [[-0.04625628,  0.02729995],\n",
      "        [-0.12164647,  0.1670486 ],\n",
      "        [-0.06057489,  0.16548307],\n",
      "        [ 0.        ,  0.        ],\n",
      "        [ 0.        ,  0.        ]],\n",
      "\n",
      "       [[ 0.02569738,  0.09368276],\n",
      "        [ 0.06188685,  0.14794043],\n",
      "        [-0.00690745,  0.10039393],\n",
      "        [-0.04744074,  0.09567757],\n",
      "        [ 0.        ,  0.        ]]], dtype=float32)\n"
     ]
    }
   ],
   "source": [
    "with tf.variable_scope('3_batches_dynamic_lenght') as socpe:\n",
    "    # One cell RNN input_dim (4) -> output_dim (5). sequence: 5, batch 3\n",
    "    # 3 batches 'hello', 'eolll', 'lleel'\n",
    "    x_data = np.array([[h, e, l, l, o], [e, o, l, l, l], [l, l, e, e, l]], dtype=np.float32)   \n",
    "    pp.pprint(x_data)\n",
    "    \n",
    "    hidden_size = 2\n",
    "    cell = rnn.BasicLSTMCell(num_units = hidden_size, state_is_tuple = True)\n",
    "    outputs, _stats = tf.nn.dynamic_rnn(\n",
    "        cell, x_data, sequence_length = [5,3,4] ,dtype = tf.float32)\n",
    "    sess.run(tf.global_variables_initializer())\n",
    "    pp.pprint(outputs.eval())"
   ]
  },
  {
   "cell_type": "code",
   "execution_count": 7,
   "metadata": {},
   "outputs": [
    {
     "name": "stdout",
     "output_type": "stream",
     "text": [
      "array([[[ 1.,  0.,  0.,  0.],\n",
      "        [ 0.,  1.,  0.,  0.],\n",
      "        [ 0.,  0.,  1.,  0.],\n",
      "        [ 0.,  0.,  1.,  0.],\n",
      "        [ 0.,  0.,  0.,  1.]],\n",
      "\n",
      "       [[ 0.,  1.,  0.,  0.],\n",
      "        [ 0.,  0.,  0.,  1.],\n",
      "        [ 0.,  0.,  1.,  0.],\n",
      "        [ 0.,  0.,  1.,  0.],\n",
      "        [ 0.,  0.,  1.,  0.]],\n",
      "\n",
      "       [[ 0.,  0.,  1.,  0.],\n",
      "        [ 0.,  0.,  1.,  0.],\n",
      "        [ 0.,  1.,  0.,  0.],\n",
      "        [ 0.,  1.,  0.,  0.],\n",
      "        [ 0.,  0.,  1.,  0.]]], dtype=float32)\n",
      "array([[[-0.00076382,  0.00491455],\n",
      "        [-0.12414705, -0.0571281 ],\n",
      "        [ 0.05406383, -0.09039623],\n",
      "        [ 0.1763984 , -0.10316552],\n",
      "        [-0.02516459, -0.09045175]],\n",
      "\n",
      "       [[-0.12345655, -0.06083148],\n",
      "        [-0.16721568, -0.08382386],\n",
      "        [-0.05208393, -0.12483924],\n",
      "        [ 0.10311237, -0.13741909],\n",
      "        [ 0.20470241, -0.13859901]],\n",
      "\n",
      "       [[ 0.14744291, -0.03578108],\n",
      "        [ 0.23831779, -0.05468043],\n",
      "        [ 0.04555801, -0.08773473],\n",
      "        [-0.09310991, -0.12859485],\n",
      "        [ 0.0720132 , -0.14886433]]], dtype=float32)\n"
     ]
    }
   ],
   "source": [
    "with tf.variable_scope('initial_state') as socpe:\n",
    "    batch_size = 3\n",
    "    x_data = np.array([[h, e, l, l, o], [e, o, l, l, l], [l, l, e, e, l]], dtype=np.float32)   \n",
    "    pp.pprint(x_data)\n",
    "    \n",
    "    # One cell RNN input_dim (4) -> output_dim (5). sequence: 5, batch: 3\n",
    "    \n",
    "    hidden_size = 2\n",
    "    cell = rnn.BasicLSTMCell(num_units = hidden_size, \n",
    "                             state_is_tuple = True)\n",
    "    initial_state = cell.zero_state(batch_size, tf.float32)\n",
    "    outputs, _stats = tf.nn.dynamic_rnn(\n",
    "        cell, x_data, initial_state = initial_state ,dtype = tf.float32)\n",
    "    sess.run(tf.global_variables_initializer())\n",
    "    pp.pprint(outputs.eval())"
   ]
  },
  {
   "cell_type": "code",
   "execution_count": 8,
   "metadata": {},
   "outputs": [
    {
     "name": "stdout",
     "output_type": "stream",
     "text": [
      "array([[[  0.,   1.,   2.],\n",
      "        [  3.,   4.,   5.],\n",
      "        [  6.,   7.,   8.],\n",
      "        [  9.,  10.,  11.],\n",
      "        [ 12.,  13.,  14.]],\n",
      "\n",
      "       [[ 15.,  16.,  17.],\n",
      "        [ 18.,  19.,  20.],\n",
      "        [ 21.,  22.,  23.],\n",
      "        [ 24.,  25.,  26.],\n",
      "        [ 27.,  28.,  29.]],\n",
      "\n",
      "       [[ 30.,  31.,  32.],\n",
      "        [ 33.,  34.,  35.],\n",
      "        [ 36.,  37.,  38.],\n",
      "        [ 39.,  40.,  41.],\n",
      "        [ 42.,  43.,  44.]]], dtype=float32)\n"
     ]
    }
   ],
   "source": [
    "#Create input data\n",
    "batch_size = 3\n",
    "squence_length = 5\n",
    "input_dimension = 3\n",
    "x_data = np.arange(45, dtype = np.float32).reshape(batch_size,\n",
    "                                                   squence_length,input_dimension)\n",
    "pp.pprint(x_data)"
   ]
  },
  {
   "cell_type": "code",
   "execution_count": 9,
   "metadata": {
    "scrolled": true
   },
   "outputs": [
    {
     "name": "stdout",
     "output_type": "stream",
     "text": [
      "array([[[ -1.31519079e-01,   1.25343472e-01,  -2.02241570e-01,\n",
      "          -2.23539975e-02,  -4.93601374e-02],\n",
      "        [ -2.01150984e-01,   1.49005100e-01,  -3.75695169e-01,\n",
      "          -5.50462008e-02,  -7.75760189e-02],\n",
      "        [ -2.14666620e-01,   9.09091979e-02,  -2.91195661e-01,\n",
      "          -2.12572161e-02,  -3.77552696e-02],\n",
      "        [ -2.06931993e-01,   4.50092331e-02,   9.50919986e-02,\n",
      "          -5.54535724e-03,  -9.77409072e-03],\n",
      "        [ -1.81418732e-01,   2.13158280e-02,   5.85605741e-01,\n",
      "          -1.25720329e-03,  -1.43059844e-03]],\n",
      "\n",
      "       [[ -1.66807756e-01,   5.67435799e-03,   6.13698959e-01,\n",
      "          -2.11841587e-04,  -1.27079411e-05],\n",
      "        [ -1.40293434e-01,   3.87899484e-03,   9.10776079e-01,\n",
      "          -6.09784001e-05,  -2.03899299e-06],\n",
      "        [ -1.14576072e-01,   1.80072524e-03,   9.83755529e-01,\n",
      "          -1.39145795e-05,  -2.28616159e-07],\n",
      "        [ -1.01652294e-01,   7.62064999e-04,   9.97309268e-01,\n",
      "          -3.20973913e-06,  -2.61133479e-08],\n",
      "        [ -9.32588056e-02,   3.17261700e-04,   9.99560893e-01,\n",
      "          -7.49093601e-07,  -3.20546500e-09]],\n",
      "\n",
      "       [[ -1.41491771e-01,   7.81367198e-05,   7.54359305e-01,\n",
      "          -1.52161263e-07,  -4.88501628e-10],\n",
      "        [ -1.00465521e-01,   5.08970697e-05,   9.61939633e-01,\n",
      "          -4.22913686e-08,  -5.66831547e-11],\n",
      "        [ -7.56723657e-02,   2.25742206e-05,   9.94675457e-01,\n",
      "          -9.73380665e-09,  -6.92608210e-12],\n",
      "        [ -6.37497678e-02,   9.42647875e-06,   9.99269187e-01,\n",
      "          -2.26102959e-09,  -8.89623932e-13],\n",
      "        [ -5.49982041e-02,   3.91380490e-06,   9.99900103e-01,\n",
      "          -5.28648181e-10,  -1.15700337e-13]]], dtype=float32)\n"
     ]
    }
   ],
   "source": [
    "with tf.variable_scope('generated_data') as scope:\n",
    "    # One cell RNN input_dim (3) -> output_dim (5). sequence: 5, batch: 3\n",
    "    cell = rnn.BasicLSTMCell(num_units=5, state_is_tuple=True)\n",
    "    initial_state = cell.zero_state(batch_size, tf.float32)\n",
    "    outputs, _states = tf.nn.dynamic_rnn(cell, x_data, initial_state = initial_state, dtype = tf.float32)\n",
    "    \n",
    "    sess.run(tf.global_variables_initializer())\n",
    "    pp.pprint(outputs.eval())"
   ]
  },
  {
   "cell_type": "code",
   "execution_count": 10,
   "metadata": {},
   "outputs": [
    {
     "name": "stdout",
     "output_type": "stream",
     "text": [
      "array([[[  0.,   1.,   2.,   3.,   4.],\n",
      "        [  5.,   6.,   7.,   8.,   9.],\n",
      "        [ 10.,  11.,  12.,  13.,  14.],\n",
      "        [ 15.,  16.,  17.,  18.,  19.],\n",
      "        [ 20.,  21.,  22.,  23.,  24.]],\n",
      "\n",
      "       [[ 25.,  26.,  27.,  28.,  29.],\n",
      "        [ 30.,  31.,  32.,  33.,  34.],\n",
      "        [ 35.,  36.,  37.,  38.,  39.],\n",
      "        [ 40.,  41.,  42.,  43.,  44.],\n",
      "        [ 45.,  46.,  47.,  48.,  49.]],\n",
      "\n",
      "       [[ 50.,  51.,  52.,  53.,  54.],\n",
      "        [ 55.,  56.,  57.,  58.,  59.],\n",
      "        [ 60.,  61.,  62.,  63.,  64.],\n",
      "        [ 65.,  66.,  67.,  68.,  69.],\n",
      "        [ 70.,  71.,  72.,  73.,  74.]]], dtype=float32)\n"
     ]
    }
   ],
   "source": [
    "# Create input data for Multi RNN\n",
    "batch_size=3\n",
    "sequence_length=5\n",
    "input_dim=5\n",
    "\n",
    "x_data = np.arange(75, dtype=np.float32).reshape(batch_size, sequence_length, input_dim)\n",
    "pp.pprint(x_data)  "
   ]
  },
  {
   "cell_type": "code",
   "execution_count": 11,
   "metadata": {},
   "outputs": [
    {
     "name": "stdout",
     "output_type": "stream",
     "text": [
      "dynamic rnn:  Tensor(\"MultilRNNcell/rnn/transpose:0\", shape=(3, 5, 5), dtype=float32)\n",
      "array([[[-0.00667916,  0.00420376,  0.00394077,  0.00467552, -0.00514032],\n",
      "        [-0.01528698,  0.00839052,  0.00493819,  0.01102942, -0.01194896],\n",
      "        [-0.0237998 ,  0.0118334 ,  0.00156359,  0.01759532, -0.01940313],\n",
      "        [-0.03122844,  0.01443943, -0.00491179,  0.0232063 , -0.02684363],\n",
      "        [-0.03692808,  0.01616615, -0.01283519,  0.0270188 , -0.03355911]],\n",
      "\n",
      "       [[-0.00253134,  0.00186225, -0.0008368 ,  0.00201392, -0.00175845],\n",
      "        [-0.00821538,  0.00567645, -0.00335814,  0.00701161, -0.00591092],\n",
      "        [-0.01617474,  0.0104507 , -0.00775799,  0.01428726, -0.01225631],\n",
      "        [-0.02502021,  0.01506479, -0.01345836,  0.02223935, -0.02009481],\n",
      "        [-0.03356005,  0.01878211, -0.01964495,  0.02940781, -0.02852659]],\n",
      "\n",
      "       [[-0.00447139,  0.00287916,  0.0001792 ,  0.00385581, -0.00286437],\n",
      "        [-0.01398787,  0.00819651, -0.0008029 ,  0.01257607, -0.00937129],\n",
      "        [-0.0270411 ,  0.01427664, -0.0036875 ,  0.02474179, -0.01910912],\n",
      "        [-0.04168373,  0.01965704, -0.00813259,  0.03797761, -0.03110638],\n",
      "        [-0.05636098,  0.02353982, -0.01336715,  0.05026493, -0.04420828]]], dtype=float32)\n"
     ]
    }
   ],
   "source": [
    "with tf.variable_scope('MultilRNNcell') as scope:\n",
    "    # make Rnn\n",
    "    cell = rnn.BasicLSTMCell(num_units=5, state_is_tuple=True)\n",
    "    cell = rnn.MultiRNNCell([cell] *3, state_is_tuple=True) #3 layers\n",
    "    \n",
    "    outputs, _states = tf.nn.dynamic_rnn(cell, x_data, dtype = tf.float32)\n",
    "    print(\"dynamic rnn: \", outputs)\n",
    "    sess.run(tf.global_variables_initializer())\n",
    "    pp.pprint(outputs.eval())"
   ]
  },
  {
   "cell_type": "code",
   "execution_count": 12,
   "metadata": {},
   "outputs": [
    {
     "name": "stdout",
     "output_type": "stream",
     "text": [
      "(   array([[[ -4.60960537e-01,   3.10888812e-02,  -8.50511808e-03,\n",
      "          -1.99292824e-02,   4.68627930e-01],\n",
      "        [ -8.01418662e-01,  -3.23275873e-03,  -1.43056721e-04,\n",
      "          -8.27400107e-03,   9.12535667e-01],\n",
      "        [  0.00000000e+00,   0.00000000e+00,   0.00000000e+00,\n",
      "           0.00000000e+00,   0.00000000e+00],\n",
      "        [  0.00000000e+00,   0.00000000e+00,   0.00000000e+00,\n",
      "           0.00000000e+00,   0.00000000e+00],\n",
      "        [  0.00000000e+00,   0.00000000e+00,   0.00000000e+00,\n",
      "           0.00000000e+00,   0.00000000e+00]],\n",
      "\n",
      "       [[ -7.59738266e-01,  -1.06784626e-07,   7.05213969e-19,\n",
      "           4.59566400e-06,   7.61593878e-01],\n",
      "        [ -9.62434590e-01,  -8.74642847e-09,   3.20500302e-22,\n",
      "           4.63979995e-06,   9.64025676e-01],\n",
      "        [ -9.94313657e-01,  -6.39845676e-10,   1.57759991e-25,\n",
      "           4.23168967e-06,   9.95054245e-01],\n",
      "        [  0.00000000e+00,   0.00000000e+00,   0.00000000e+00,\n",
      "           0.00000000e+00,   0.00000000e+00],\n",
      "        [  0.00000000e+00,   0.00000000e+00,   0.00000000e+00,\n",
      "           0.00000000e+00,   0.00000000e+00]],\n",
      "\n",
      "       [[ -7.61577845e-01,  -1.79947338e-13,   3.07724303e-35,\n",
      "           1.40642303e-10,   7.61594176e-01],\n",
      "        [  0.00000000e+00,   0.00000000e+00,   0.00000000e+00,\n",
      "           0.00000000e+00,   0.00000000e+00],\n",
      "        [  0.00000000e+00,   0.00000000e+00,   0.00000000e+00,\n",
      "           0.00000000e+00,   0.00000000e+00],\n",
      "        [  0.00000000e+00,   0.00000000e+00,   0.00000000e+00,\n",
      "           0.00000000e+00,   0.00000000e+00],\n",
      "        [  0.00000000e+00,   0.00000000e+00,   0.00000000e+00,\n",
      "           0.00000000e+00,   0.00000000e+00]]], dtype=float32),\n",
      "    array([[[  4.78412449e-01,   2.15908438e-01,  -8.04959357e-01,\n",
      "          -6.10115156e-02,  -2.98523344e-02],\n",
      "        [  4.61667001e-01,   9.17747710e-03,  -6.61777616e-01,\n",
      "          -8.70215532e-04,   4.39759523e-01],\n",
      "        [  0.00000000e+00,   0.00000000e+00,   0.00000000e+00,\n",
      "           0.00000000e+00,   0.00000000e+00],\n",
      "        [  0.00000000e+00,   0.00000000e+00,   0.00000000e+00,\n",
      "           0.00000000e+00,   0.00000000e+00],\n",
      "        [  0.00000000e+00,   0.00000000e+00,   0.00000000e+00,\n",
      "           0.00000000e+00,   0.00000000e+00]],\n",
      "\n",
      "       [[  2.18786880e-01,   3.36494317e-08,  -6.18927538e-01,\n",
      "          -5.65887224e-12,   2.27408260e-01],\n",
      "        [  1.62034929e-01,   1.32143507e-09,  -6.11510873e-01,\n",
      "          -4.48688328e-14,   1.79087192e-01],\n",
      "        [  1.10761046e-01,   4.72616148e-11,  -6.32692039e-01,\n",
      "          -3.80975885e-16,   1.36472523e-01],\n",
      "        [  0.00000000e+00,   0.00000000e+00,   0.00000000e+00,\n",
      "           0.00000000e+00,   0.00000000e+00],\n",
      "        [  0.00000000e+00,   0.00000000e+00,   0.00000000e+00,\n",
      "           0.00000000e+00,   0.00000000e+00]],\n",
      "\n",
      "       [[  3.89111415e-02,   3.33113537e-15,  -6.15078032e-01,\n",
      "          -1.85184530e-22,   5.86147569e-02],\n",
      "        [  0.00000000e+00,   0.00000000e+00,   0.00000000e+00,\n",
      "           0.00000000e+00,   0.00000000e+00],\n",
      "        [  0.00000000e+00,   0.00000000e+00,   0.00000000e+00,\n",
      "           0.00000000e+00,   0.00000000e+00],\n",
      "        [  0.00000000e+00,   0.00000000e+00,   0.00000000e+00,\n",
      "           0.00000000e+00,   0.00000000e+00],\n",
      "        [  0.00000000e+00,   0.00000000e+00,   0.00000000e+00,\n",
      "           0.00000000e+00,   0.00000000e+00]]], dtype=float32))\n",
      "(   LSTMStateTuple(c=array([[ -1.60339117e+00,  -3.27779770e-01,  -1.03016971e-02,\n",
      "         -1.07165594e-02,   1.66697872e+00],\n",
      "       [ -2.99998522e+00,  -7.69802332e-02,   4.34421229e-17,\n",
      "          4.23654410e-06,   2.99995923e+00],\n",
      "       [ -1.00000000e+00,  -2.96886228e-02,   1.47737397e-23,\n",
      "          1.40656278e-10,   1.00000000e+00]], dtype=float32), h=array([[ -8.01418662e-01,  -3.23275873e-03,  -1.43056721e-04,\n",
      "         -8.27400107e-03,   9.12535667e-01],\n",
      "       [ -9.94313657e-01,  -6.39845676e-10,   1.57759991e-25,\n",
      "          4.23168967e-06,   9.95054245e-01],\n",
      "       [ -7.61577845e-01,  -1.79947338e-13,   3.07724303e-35,\n",
      "          1.40642303e-10,   7.61594176e-01]], dtype=float32)),\n",
      "    LSTMStateTuple(c=array([[  7.85598516e-01,   1.64772856e+00,  -1.35750723e+00,\n",
      "         -9.96635258e-02,  -4.13808301e-02],\n",
      "       [  2.22389400e-01,   2.99984741e+00,  -7.23264813e-01,\n",
      "         -2.19404162e-10,   2.31466010e-01],\n",
      "       [  3.89308035e-02,   9.99999881e-01,  -7.17049003e-01,\n",
      "         -3.29256684e-19,   5.86820282e-02]], dtype=float32), h=array([[  4.78412449e-01,   2.15908438e-01,  -8.04959357e-01,\n",
      "         -6.10115156e-02,  -2.98523344e-02],\n",
      "       [  2.18786880e-01,   3.36494317e-08,  -6.18927538e-01,\n",
      "         -5.65887224e-12,   2.27408260e-01],\n",
      "       [  3.89111415e-02,   3.33113537e-15,  -6.15078032e-01,\n",
      "         -1.85184530e-22,   5.86147569e-02]], dtype=float32)))\n"
     ]
    }
   ],
   "source": [
    "with tf.variable_scope('bi-directional') as scope:\n",
    "    # bi-directional rnn\n",
    "    cell_fw = rnn.BasicLSTMCell(num_units=5, state_is_tuple=True)\n",
    "    cell_bw = rnn.BasicLSTMCell(num_units=5, state_is_tuple=True)\n",
    "\n",
    "    outputs, states = tf.nn.bidirectional_dynamic_rnn(cell_fw, cell_bw, x_data,\n",
    "                                                      sequence_length=[2, 3, 1],\n",
    "                                                      dtype=tf.float32)\n",
    "\n",
    "    sess.run(tf.global_variables_initializer())\n",
    "    pp.pprint(sess.run(outputs))\n",
    "    pp.pprint(sess.run(states))"
   ]
  },
  {
   "cell_type": "markdown",
   "metadata": {},
   "source": [
    "*Seq2Seq Exercise"
   ]
  },
  {
   "cell_type": "code",
   "execution_count": 15,
   "metadata": {},
   "outputs": [
    {
     "name": "stdout",
     "output_type": "stream",
     "text": [
      "array([[  0.,   1.,   2.],\n",
      "       [  3.,   4.,   5.],\n",
      "       [  6.,   7.,   8.],\n",
      "       [  9.,  10.,  11.],\n",
      "       [ 12.,  13.,  14.],\n",
      "       [ 15.,  16.,  17.],\n",
      "       [ 18.,  19.,  20.],\n",
      "       [ 21.,  22.,  23.],\n",
      "       [ 24.,  25.,  26.],\n",
      "       [ 27.,  28.,  29.],\n",
      "       [ 30.,  31.,  32.],\n",
      "       [ 33.,  34.,  35.],\n",
      "       [ 36.,  37.,  38.],\n",
      "       [ 39.,  40.,  41.],\n",
      "       [ 42.,  43.,  44.],\n",
      "       [ 45.,  46.,  47.],\n",
      "       [ 48.,  49.,  50.],\n",
      "       [ 51.,  52.,  53.],\n",
      "       [ 54.,  55.,  56.],\n",
      "       [ 57.,  58.,  59.],\n",
      "       [ 60.,  61.,  62.],\n",
      "       [ 63.,  64.,  65.],\n",
      "       [ 66.,  67.,  68.],\n",
      "       [ 69.,  70.,  71.],\n",
      "       [ 72.,  73.,  74.]], dtype=float32)\n",
      "array([[  0.,   1.,   2.],\n",
      "       [  3.,   4.,   5.],\n",
      "       [  6.,   7.,   8.],\n",
      "       [  9.,  10.,  11.],\n",
      "       [ 12.,  13.,  14.],\n",
      "       [ 15.,  16.,  17.],\n",
      "       [ 18.,  19.,  20.],\n",
      "       [ 21.,  22.,  23.],\n",
      "       [ 24.,  25.,  26.],\n",
      "       [ 27.,  28.,  29.],\n",
      "       [ 30.,  31.,  32.],\n",
      "       [ 33.,  34.,  35.],\n",
      "       [ 36.,  37.,  38.],\n",
      "       [ 39.,  40.,  41.],\n",
      "       [ 42.,  43.,  44.],\n",
      "       [ 45.,  46.,  47.],\n",
      "       [ 48.,  49.,  50.],\n",
      "       [ 51.,  52.,  53.],\n",
      "       [ 54.,  55.,  56.],\n",
      "       [ 57.,  58.,  59.],\n",
      "       [ 60.,  61.,  62.],\n",
      "       [ 63.,  64.,  65.],\n",
      "       [ 66.,  67.,  68.],\n",
      "       [ 69.,  70.,  71.],\n",
      "       [ 72.,  73.,  74.]], dtype=float32)\n",
      "array([[[   25.,    28.,    31.,    34.,    37.],\n",
      "        [   70.,    82.,    94.,   106.,   118.],\n",
      "        [  115.,   136.,   157.,   178.,   199.],\n",
      "        [  160.,   190.,   220.,   250.,   280.],\n",
      "        [  205.,   244.,   283.,   322.,   361.]],\n",
      "\n",
      "       [[  250.,   298.,   346.,   394.,   442.],\n",
      "        [  295.,   352.,   409.,   466.,   523.],\n",
      "        [  340.,   406.,   472.,   538.,   604.],\n",
      "        [  385.,   460.,   535.,   610.,   685.],\n",
      "        [  430.,   514.,   598.,   682.,   766.]],\n",
      "\n",
      "       [[  475.,   568.,   661.,   754.,   847.],\n",
      "        [  520.,   622.,   724.,   826.,   928.],\n",
      "        [  565.,   676.,   787.,   898.,  1009.],\n",
      "        [  610.,   730.,   850.,   970.,  1090.],\n",
      "        [  655.,   784.,   913.,  1042.,  1171.]],\n",
      "\n",
      "       [[  700.,   838.,   976.,  1114.,  1252.],\n",
      "        [  745.,   892.,  1039.,  1186.,  1333.],\n",
      "        [  790.,   946.,  1102.,  1258.,  1414.],\n",
      "        [  835.,  1000.,  1165.,  1330.,  1495.],\n",
      "        [  880.,  1054.,  1228.,  1402.,  1576.]],\n",
      "\n",
      "       [[  925.,  1108.,  1291.,  1474.,  1657.],\n",
      "        [  970.,  1162.,  1354.,  1546.,  1738.],\n",
      "        [ 1015.,  1216.,  1417.,  1618.,  1819.],\n",
      "        [ 1060.,  1270.,  1480.,  1690.,  1900.],\n",
      "        [ 1105.,  1324.,  1543.,  1762.,  1981.]]], dtype=float32)\n"
     ]
    }
   ],
   "source": [
    "#flattern based softmax\n",
    "hidden_size = 3\n",
    "squence_length = 5\n",
    "batch_size = 3\n",
    "num_classes = 5\n",
    "\n",
    "pp.pprint(x_data)\n",
    "x_data = x_data.reshape(-1,hidden_size)\n",
    "pp.pprint(x_data)\n",
    "\n",
    "softmax_w = np.arange(15, dtype = np.float32).reshape(hidden_size,\n",
    "                                                     num_classes)\n",
    "outputs = np.matmul(x_data, softmax_w)\n",
    "outputs = outputs.reshape(-1, sequence_length, num_classes)\n",
    "# batch, seq, class\n",
    "pp.pprint(outputs)"
   ]
  },
  {
   "cell_type": "code",
   "execution_count": 22,
   "metadata": {},
   "outputs": [
    {
     "name": "stdout",
     "output_type": "stream",
     "text": [
      "Loss:  0.596759\n"
     ]
    }
   ],
   "source": [
    "# [batch_size, sequence_length]\n",
    "y_data = tf.constant([[1,1,1]])\n",
    "\n",
    "# [batch_size, sequence_length, emb_dim ]\n",
    "prediction = tf.constant([[[0.2, 0.7], [0.6, 0.2], [0.2, 0.9]]], dtype=tf.float32)\n",
    "\n",
    "# [batch_size * sequence_length]\n",
    "weights = tf.constant([[1,1,1]], dtype =tf.float32)\n",
    "sequence_loss = tf.contrib.seq2seq.sequence_loss(logits = prediction, \n",
    "                                                targets = y_data, weights = weights )\n",
    "sess.run(tf.global_variables_initializer())\n",
    "print(\"Loss: \", sequence_loss.eval())"
   ]
  },
  {
   "cell_type": "code",
   "execution_count": 24,
   "metadata": {},
   "outputs": [
    {
     "name": "stdout",
     "output_type": "stream",
     "text": [
      "Loss1:  0.513015 Loss2:  0.371101 Loss3:  1.31326 Loss4:  0.313262\n"
     ]
    }
   ],
   "source": [
    "# [batch_size, sequence_length]\n",
    "y_data = tf.constant([[1,1,1]])\n",
    "\n",
    "# [batch_size, sequence_length, emb_dim ]\n",
    "prediction1 = tf.constant([[[0.3,0.7],[0.3,0.7],[0.3,0.7]]], dtype = tf.float32)\n",
    "prediction2 = tf.constant([[[0.1,0.9],[0.1,0.9],[0.1,0.9]]], dtype = tf.float32)\n",
    "prediction3 = tf.constant([[[1,0],[1,0],[1,0]]], dtype = tf.float32)\n",
    "prediction4 = tf.constant([[[0,1],[0,1],[0,1]]], dtype = tf.float32)\n",
    "\n",
    "# [batch_size * sequence_length]\n",
    "weights = tf.constant([[1, 1, 1]], dtype=tf.float32)\n",
    "\n",
    "sequence_loss1 = tf.contrib.seq2seq.sequence_loss(prediction1, y_data, weights)\n",
    "sequence_loss2 = tf.contrib.seq2seq.sequence_loss(prediction2, y_data, weights)\n",
    "sequence_loss3 = tf.contrib.seq2seq.sequence_loss(prediction3, y_data, weights)\n",
    "sequence_loss4 = tf.contrib.seq2seq.sequence_loss(prediction4, y_data, weights)\n",
    "\n",
    "sess.run(tf.global_variables_initializer())\n",
    "print(\"Loss1: \", sequence_loss1.eval(),\n",
    "     \"Loss2: \", sequence_loss2.eval(),\n",
    "     \"Loss3: \", sequence_loss3.eval(),\n",
    "     \"Loss4: \", sequence_loss4.eval())"
   ]
  },
  {
   "cell_type": "code",
   "execution_count": null,
   "metadata": {
    "collapsed": true
   },
   "outputs": [],
   "source": []
  }
 ],
 "metadata": {
  "kernelspec": {
   "display_name": "Python 3",
   "language": "python",
   "name": "python3"
  },
  "language_info": {
   "codemirror_mode": {
    "name": "ipython",
    "version": 3
   },
   "file_extension": ".py",
   "mimetype": "text/x-python",
   "name": "python",
   "nbconvert_exporter": "python",
   "pygments_lexer": "ipython3",
   "version": "3.6.0"
  }
 },
 "nbformat": 4,
 "nbformat_minor": 2
}
