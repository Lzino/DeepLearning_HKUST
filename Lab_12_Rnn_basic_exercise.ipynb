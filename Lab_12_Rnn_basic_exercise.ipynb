{
 "cells": [
  {
   "cell_type": "code",
   "execution_count": 1,
   "metadata": {},
   "outputs": [
    {
     "name": "stderr",
     "output_type": "stream",
     "text": [
      "/home/lwd/anaconda3/lib/python3.6/importlib/_bootstrap.py:205: RuntimeWarning: compiletime version 3.5 of module 'tensorflow.python.framework.fast_tensor_util' does not match runtime version 3.6\n",
      "  return f(*args, **kwds)\n"
     ]
    }
   ],
   "source": [
    "# http://www.wildml.com/2016/08/rnns-in-tensorflow-a-practical-guide-and-undocumented-features/\n",
    "# http://learningtensorflow.com/index.html\n",
    "# http://suriyadeepan.github.io/2016-12-31-practical-seq2seq/\n",
    "\n",
    "import tensorflow as tf\n",
    "import numpy as np\n",
    "from tensorflow.contrib import rnn\n",
    "import pprint\n",
    "pp = pprint.PrettyPrinter(indent=4)\n",
    "sess = tf.InteractiveSession()"
   ]
  },
  {
   "cell_type": "code",
   "execution_count": 2,
   "metadata": {
    "collapsed": true
   },
   "outputs": [],
   "source": [
    "# One hot encoding for each char in 'hello'\n",
    "h = [1,0,0,0]\n",
    "e = [0,1,0,0]\n",
    "l = [0,0,1,0]\n",
    "o = [0,0,0,1]"
   ]
  },
  {
   "cell_type": "code",
   "execution_count": 3,
   "metadata": {},
   "outputs": [
    {
     "name": "stdout",
     "output_type": "stream",
     "text": [
      "2 2\n",
      "array([[[ 1.,  0.,  0.,  0.]]], dtype=float32)\n",
      "array([[[-0.27067557,  0.48000818]]], dtype=float32)\n"
     ]
    }
   ],
   "source": [
    "with tf.variable_scope('one_cell') as scope:\n",
    "    #One cell RNN input_dimension(4) > output_dimension(2)\n",
    "    hidden_size = 2\n",
    "    cell = tf.contrib.rnn.BasicRNNCell(num_units = hidden_size)\n",
    "    print(cell.output_size, cell.state_size)\n",
    "    \n",
    "    x_data = np.array([[h]], dtype = np.float32)\n",
    "    pp.pprint(x_data)\n",
    "    outputs, __states = tf.nn.dynamic_rnn(cell, x_data, dtype = tf.float32)\n",
    "    \n",
    "    sess.run(tf.global_variables_initializer())\n",
    "    pp.pprint(outputs.eval())"
   ]
  },
  {
   "cell_type": "code",
   "execution_count": 4,
   "metadata": {},
   "outputs": [
    {
     "name": "stdout",
     "output_type": "stream",
     "text": [
      "(1, 5, 4)\n",
      "array([[[ 1.,  0.,  0.,  0.],\n",
      "        [ 0.,  1.,  0.,  0.],\n",
      "        [ 0.,  0.,  1.,  0.],\n",
      "        [ 0.,  0.,  1.,  0.],\n",
      "        [ 0.,  0.,  0.,  1.]]], dtype=float32)\n",
      "array([[[-0.05660009,  0.37682691],\n",
      "        [-0.07094067,  0.61848563],\n",
      "        [-0.78341401, -0.44626895],\n",
      "        [-0.64339137, -0.50236982],\n",
      "        [ 0.67625624, -0.43305618]]], dtype=float32)\n"
     ]
    }
   ],
   "source": [
    "with tf.variable_scope('two_sequances') as scope:\n",
    "    # One cell RNN input_dim (4) -> output_dim (2). sequence: 5\n",
    "    hidden_size = 2\n",
    "    cell = tf.contrib.rnn.BasicRNNCell(num_units=hidden_size)\n",
    "    x_data = np.array([[h, e, l, l, o]], dtype=np.float32)\n",
    "    print(x_data.shape)\n",
    "    pp.pprint(x_data)\n",
    "    outputs, states = tf.nn.dynamic_rnn(cell, x_data, dtype=tf.float32)\n",
    "    sess.run(tf.global_variables_initializer())\n",
    "    pp.pprint(outputs.eval())"
   ]
  },
  {
   "cell_type": "code",
   "execution_count": 5,
   "metadata": {
    "scrolled": true
   },
   "outputs": [
    {
     "name": "stdout",
     "output_type": "stream",
     "text": [
      "array([[[ 1.,  0.,  0.,  0.],\n",
      "        [ 0.,  1.,  0.,  0.],\n",
      "        [ 0.,  0.,  1.,  0.],\n",
      "        [ 0.,  0.,  1.,  0.],\n",
      "        [ 0.,  0.,  0.,  1.]],\n",
      "\n",
      "       [[ 0.,  1.,  0.,  0.],\n",
      "        [ 0.,  0.,  0.,  1.],\n",
      "        [ 0.,  0.,  1.,  0.],\n",
      "        [ 0.,  0.,  1.,  0.],\n",
      "        [ 0.,  0.,  1.,  0.]],\n",
      "\n",
      "       [[ 0.,  0.,  1.,  0.],\n",
      "        [ 0.,  0.,  1.,  0.],\n",
      "        [ 0.,  1.,  0.,  0.],\n",
      "        [ 0.,  1.,  0.,  0.],\n",
      "        [ 0.,  0.,  1.,  0.]]], dtype=float32)\n",
      "array([[[-0.0588767 ,  0.06867331],\n",
      "        [ 0.09078103,  0.07949297],\n",
      "        [ 0.10506402,  0.08231065],\n",
      "        [ 0.13180585,  0.08871793],\n",
      "        [ 0.19988269,  0.04121359]],\n",
      "\n",
      "       [[ 0.13245277,  0.01283496],\n",
      "        [ 0.16326015, -0.01872113],\n",
      "        [ 0.1504631 ,  0.00133999],\n",
      "        [ 0.1559335 ,  0.01834938],\n",
      "        [ 0.16036499,  0.03253094]],\n",
      "\n",
      "       [[ 0.06553609,  0.02491119],\n",
      "        [ 0.10711056,  0.04229171],\n",
      "        [ 0.23815709,  0.04248779],\n",
      "        [ 0.28479171,  0.0352258 ],\n",
      "        [ 0.18080841,  0.0393565 ]]], dtype=float32)\n"
     ]
    }
   ],
   "source": [
    "with tf.variable_scope('3_batches') as socpe:\n",
    "    # One cell RNN input_dim (4) -> output_dim (2). sequence: 5, batch 3\n",
    "    # 3 batches 'hello', 'eolll', 'lleel'\n",
    "    x_data = np.array([[h, e, l, l, o], [e, o, l, l, l], [l, l, e, e, l]], dtype=np.float32)   \n",
    "    pp.pprint(x_data)\n",
    "    \n",
    "    hidden_size = 2\n",
    "    cell = rnn.BasicLSTMCell(num_units = hidden_size, state_is_tuple = True)\n",
    "    outputs, _stats = tf.nn.dynamic_rnn(\n",
    "        cell, x_data, dtype = tf.float32)\n",
    "    sess.run(tf.global_variables_initializer())\n",
    "    pp.pprint(outputs.eval())"
   ]
  },
  {
   "cell_type": "code",
   "execution_count": 6,
   "metadata": {},
   "outputs": [
    {
     "name": "stdout",
     "output_type": "stream",
     "text": [
      "array([[[ 1.,  0.,  0.,  0.],\n",
      "        [ 0.,  1.,  0.,  0.],\n",
      "        [ 0.,  0.,  1.,  0.],\n",
      "        [ 0.,  0.,  1.,  0.],\n",
      "        [ 0.,  0.,  0.,  1.]],\n",
      "\n",
      "       [[ 0.,  1.,  0.,  0.],\n",
      "        [ 0.,  0.,  0.,  1.],\n",
      "        [ 0.,  0.,  1.,  0.],\n",
      "        [ 0.,  0.,  1.,  0.],\n",
      "        [ 0.,  0.,  1.,  0.]],\n",
      "\n",
      "       [[ 0.,  0.,  1.,  0.],\n",
      "        [ 0.,  0.,  1.,  0.],\n",
      "        [ 0.,  1.,  0.,  0.],\n",
      "        [ 0.,  1.,  0.,  0.],\n",
      "        [ 0.,  0.,  1.,  0.]]], dtype=float32)\n",
      "array([[[ -1.21367820e-01,   9.28923041e-02],\n",
      "        [ -8.64079073e-02,  -2.21855342e-02],\n",
      "        [ -6.43974394e-02,  -1.59500241e-01],\n",
      "        [ -6.91191405e-02,  -2.61433780e-01],\n",
      "        [ -1.49823681e-01,  -1.02285154e-01]],\n",
      "\n",
      "       [[  1.28003294e-02,  -1.16549470e-01],\n",
      "        [ -8.19841251e-02,   2.00632866e-03],\n",
      "        [ -7.16223419e-02,  -1.37422889e-01],\n",
      "        [  0.00000000e+00,   0.00000000e+00],\n",
      "        [  0.00000000e+00,   0.00000000e+00]],\n",
      "\n",
      "       [[ -1.98397487e-02,  -1.28085449e-01],\n",
      "        [ -3.39308605e-02,  -2.31869251e-01],\n",
      "        [ -2.24415362e-02,  -2.87726998e-01],\n",
      "        [  1.79388109e-04,  -3.46743852e-01],\n",
      "        [  0.00000000e+00,   0.00000000e+00]]], dtype=float32)\n"
     ]
    }
   ],
   "source": [
    "with tf.variable_scope('3_batches_dynamic_lenght') as socpe:\n",
    "    # One cell RNN input_dim (4) -> output_dim (5). sequence: 5, batch 3\n",
    "    # 3 batches 'hello', 'eolll', 'lleel'\n",
    "    x_data = np.array([[h, e, l, l, o], [e, o, l, l, l], [l, l, e, e, l]], dtype=np.float32)   \n",
    "    pp.pprint(x_data)\n",
    "    \n",
    "    hidden_size = 2\n",
    "    cell = rnn.BasicLSTMCell(num_units = hidden_size, state_is_tuple = True)\n",
    "    outputs, _stats = tf.nn.dynamic_rnn(\n",
    "        cell, x_data, sequence_length = [5,3,4] ,dtype = tf.float32)\n",
    "    sess.run(tf.global_variables_initializer())\n",
    "    pp.pprint(outputs.eval())"
   ]
  },
  {
   "cell_type": "code",
   "execution_count": 7,
   "metadata": {},
   "outputs": [
    {
     "name": "stdout",
     "output_type": "stream",
     "text": [
      "array([[[ 1.,  0.,  0.,  0.],\n",
      "        [ 0.,  1.,  0.,  0.],\n",
      "        [ 0.,  0.,  1.,  0.],\n",
      "        [ 0.,  0.,  1.,  0.],\n",
      "        [ 0.,  0.,  0.,  1.]],\n",
      "\n",
      "       [[ 0.,  1.,  0.,  0.],\n",
      "        [ 0.,  0.,  0.,  1.],\n",
      "        [ 0.,  0.,  1.,  0.],\n",
      "        [ 0.,  0.,  1.,  0.],\n",
      "        [ 0.,  0.,  1.,  0.]],\n",
      "\n",
      "       [[ 0.,  0.,  1.,  0.],\n",
      "        [ 0.,  0.,  1.,  0.],\n",
      "        [ 0.,  1.,  0.,  0.],\n",
      "        [ 0.,  1.,  0.,  0.],\n",
      "        [ 0.,  0.,  1.,  0.]]], dtype=float32)\n",
      "array([[[ 0.09405788, -0.10112203],\n",
      "        [ 0.17270254, -0.10455669],\n",
      "        [ 0.12623718, -0.07821716],\n",
      "        [ 0.10560169,  0.00030266],\n",
      "        [-0.03832111, -0.07835191]],\n",
      "\n",
      "       [[ 0.07387558, -0.05091054],\n",
      "        [-0.0671995 , -0.14090177],\n",
      "        [-0.0152092 , -0.05935089],\n",
      "        [ 0.01457104,  0.03287275],\n",
      "        [ 0.03793775,  0.11244818]],\n",
      "\n",
      "       [[ 0.02705248,  0.08489441],\n",
      "        [ 0.0484485 ,  0.15588853],\n",
      "        [ 0.12158112,  0.03788715],\n",
      "        [ 0.16549674, -0.02386612],\n",
      "        [ 0.12482291,  0.03704939]]], dtype=float32)\n"
     ]
    }
   ],
   "source": [
    "with tf.variable_scope('initial_state') as socpe:\n",
    "    batch_size = 3\n",
    "    x_data = np.array([[h, e, l, l, o], [e, o, l, l, l], [l, l, e, e, l]], dtype=np.float32)   \n",
    "    pp.pprint(x_data)\n",
    "    \n",
    "    # One cell RNN input_dim (4) -> output_dim (5). sequence: 5, batch: 3\n",
    "    \n",
    "    hidden_size = 2\n",
    "    cell = rnn.BasicLSTMCell(num_units = hidden_size, \n",
    "                             state_is_tuple = True)\n",
    "    initial_state = cell.zero_state(batch_size, tf.float32)\n",
    "    outputs, _stats = tf.nn.dynamic_rnn(\n",
    "        cell, x_data, initial_state = initial_state ,dtype = tf.float32)\n",
    "    sess.run(tf.global_variables_initializer())\n",
    "    pp.pprint(outputs.eval())"
   ]
  },
  {
   "cell_type": "code",
   "execution_count": 8,
   "metadata": {},
   "outputs": [
    {
     "name": "stdout",
     "output_type": "stream",
     "text": [
      "array([[[  0.,   1.,   2.],\n",
      "        [  3.,   4.,   5.],\n",
      "        [  6.,   7.,   8.],\n",
      "        [  9.,  10.,  11.],\n",
      "        [ 12.,  13.,  14.]],\n",
      "\n",
      "       [[ 15.,  16.,  17.],\n",
      "        [ 18.,  19.,  20.],\n",
      "        [ 21.,  22.,  23.],\n",
      "        [ 24.,  25.,  26.],\n",
      "        [ 27.,  28.,  29.]],\n",
      "\n",
      "       [[ 30.,  31.,  32.],\n",
      "        [ 33.,  34.,  35.],\n",
      "        [ 36.,  37.,  38.],\n",
      "        [ 39.,  40.,  41.],\n",
      "        [ 42.,  43.,  44.]]], dtype=float32)\n"
     ]
    }
   ],
   "source": [
    "#Create input data\n",
    "batch_size = 3\n",
    "squence_length = 5\n",
    "input_dimension = 3\n",
    "x_data = np.arange(45, dtype = np.float32).reshape(batch_size,\n",
    "                                                   squence_length,input_dimension)\n",
    "pp.pprint(x_data)"
   ]
  },
  {
   "cell_type": "code",
   "execution_count": 9,
   "metadata": {
    "scrolled": true
   },
   "outputs": [
    {
     "name": "stdout",
     "output_type": "stream",
     "text": [
      "array([[[ -5.55621423e-02,   2.69159935e-02,  -1.06270470e-01,\n",
      "          -1.41187683e-01,   1.72925457e-01],\n",
      "        [  1.73611287e-02,   2.24070419e-02,  -3.58880877e-01,\n",
      "          -4.73004609e-01,   4.54284966e-01],\n",
      "        [  2.52195988e-02,   1.39435269e-02,  -4.36731637e-01,\n",
      "          -6.53805017e-01,   6.02178752e-01],\n",
      "        [  1.47487568e-02,   7.82546494e-03,  -4.17854905e-01,\n",
      "          -7.74901927e-01,   6.52746558e-01],\n",
      "        [  7.17662182e-03,   4.17426229e-03,  -3.86942953e-01,\n",
      "          -8.57945859e-01,   6.82630479e-01]],\n",
      "\n",
      "       [[  3.73089366e-04,   9.43667146e-06,  -2.92584628e-01,\n",
      "          -7.30898261e-01,   7.14807510e-01],\n",
      "        [  1.99320959e-04,   6.91834293e-06,  -3.31310809e-01,\n",
      "          -8.81753385e-01,   7.33167470e-01],\n",
      "        [  9.69751782e-05,   3.76223102e-06,  -3.06114733e-01,\n",
      "          -9.31049764e-01,   7.44231045e-01],\n",
      "        [  4.29016000e-05,   2.00915406e-06,  -2.80324340e-01,\n",
      "          -9.51290488e-01,   7.51726449e-01],\n",
      "        [  1.80160132e-05,   1.06398068e-06,  -2.54551142e-01,\n",
      "          -9.60176289e-01,   7.56085455e-01]],\n",
      "\n",
      "       [[  2.66576734e-07,   8.51662130e-10,  -1.68996528e-01,\n",
      "          -7.60469735e-01,   7.59255826e-01],\n",
      "        [  1.47256245e-07,   6.38538389e-10,  -2.02780947e-01,\n",
      "          -9.03750777e-01,   7.60039091e-01],\n",
      "        [  7.16058537e-08,   3.44405948e-10,  -1.82234183e-01,\n",
      "          -9.40106571e-01,   7.60685325e-01],\n",
      "        [  3.15111706e-08,   1.83430771e-10,  -1.62255749e-01,\n",
      "          -9.52292204e-01,   7.61089623e-01],\n",
      "        [  1.31795952e-08,   9.69675104e-11,  -1.43492669e-01,\n",
      "          -9.56491649e-01,   7.61315763e-01]]], dtype=float32)\n"
     ]
    }
   ],
   "source": [
    "with tf.variable_scope('generated_data') as scope:\n",
    "    # One cell RNN input_dim (3) -> output_dim (5). sequence: 5, batch: 3\n",
    "    cell = rnn.BasicLSTMCell(num_units=5, state_is_tuple=True)\n",
    "    initial_state = cell.zero_state(batch_size, tf.float32)\n",
    "    outputs, _states = tf.nn.dynamic_rnn(cell, x_data, initial_state = initial_state, dtype = tf.float32)\n",
    "    \n",
    "    sess.run(tf.global_variables_initializer())\n",
    "    pp.pprint(outputs.eval())"
   ]
  },
  {
   "cell_type": "code",
   "execution_count": 10,
   "metadata": {},
   "outputs": [
    {
     "name": "stdout",
     "output_type": "stream",
     "text": [
      "array([[[  0.,   1.,   2.,   3.,   4.],\n",
      "        [  5.,   6.,   7.,   8.,   9.],\n",
      "        [ 10.,  11.,  12.,  13.,  14.],\n",
      "        [ 15.,  16.,  17.,  18.,  19.],\n",
      "        [ 20.,  21.,  22.,  23.,  24.]],\n",
      "\n",
      "       [[ 25.,  26.,  27.,  28.,  29.],\n",
      "        [ 30.,  31.,  32.,  33.,  34.],\n",
      "        [ 35.,  36.,  37.,  38.,  39.],\n",
      "        [ 40.,  41.,  42.,  43.,  44.],\n",
      "        [ 45.,  46.,  47.,  48.,  49.]],\n",
      "\n",
      "       [[ 50.,  51.,  52.,  53.,  54.],\n",
      "        [ 55.,  56.,  57.,  58.,  59.],\n",
      "        [ 60.,  61.,  62.,  63.,  64.],\n",
      "        [ 65.,  66.,  67.,  68.,  69.],\n",
      "        [ 70.,  71.,  72.,  73.,  74.]]], dtype=float32)\n"
     ]
    }
   ],
   "source": [
    "# Create input data for Multi RNN\n",
    "batch_size=3\n",
    "sequence_length=5\n",
    "input_dim=5\n",
    "\n",
    "x_data = np.arange(75, dtype=np.float32).reshape(batch_size, sequence_length, input_dim)\n",
    "pp.pprint(x_data)  "
   ]
  },
  {
   "cell_type": "code",
   "execution_count": 11,
   "metadata": {
    "scrolled": true
   },
   "outputs": [
    {
     "name": "stdout",
     "output_type": "stream",
     "text": [
      "dynamic rnn:  Tensor(\"MultilRNNcell/rnn/transpose:0\", shape=(3, 5, 5), dtype=float32)\n",
      "array([[[ 0.00116798,  0.00104186,  0.00352003, -0.00193464,  0.00021787],\n",
      "        [ 0.00483343,  0.00111068,  0.01504887, -0.00629978,  0.00050146],\n",
      "        [ 0.00902695,  0.00178937,  0.02721895, -0.01126098,  0.00169144],\n",
      "        [ 0.01236872,  0.00376076,  0.03677143, -0.01611896,  0.00369036],\n",
      "        [ 0.01452138,  0.00670948,  0.04323206, -0.02046258,  0.00610271]],\n",
      "\n",
      "       [[ 0.0035787 , -0.00117903,  0.01193588, -0.00335925, -0.00073087],\n",
      "        [ 0.00802279, -0.00129476,  0.02586171, -0.0080606 , -0.00040309],\n",
      "        [ 0.01165426,  0.00054015,  0.03696573, -0.01310167,  0.00117298],\n",
      "        [ 0.01404691,  0.00380778,  0.04436813, -0.01782879,  0.00354445],\n",
      "        [ 0.01532967,  0.00774736,  0.04863838, -0.02189689,  0.00621756]],\n",
      "\n",
      "       [[ 0.0035861 , -0.00118294,  0.01193712, -0.0033598 , -0.00072896],\n",
      "        [ 0.00803438, -0.00130156,  0.02586317, -0.00806076, -0.00040069],\n",
      "        [ 0.01166655,  0.00053223,  0.03696723, -0.01310121,  0.00117469],\n",
      "        [ 0.01405796,  0.00380008,  0.04436939, -0.01782775,  0.00354514],\n",
      "        [ 0.01533874,  0.00774063,  0.04863919, -0.02189541,  0.00621735]]], dtype=float32)\n"
     ]
    }
   ],
   "source": [
    "with tf.variable_scope('MultilRNNcell') as scope:\n",
    "    # make Rnn\n",
    "    cell = rnn.BasicLSTMCell(num_units=5, state_is_tuple=True)\n",
    "    cell = rnn.MultiRNNCell([cell] *3, state_is_tuple=True) #3 layers\n",
    "    \n",
    "    outputs, _states = tf.nn.dynamic_rnn(cell, x_data, dtype = tf.float32)\n",
    "    print(\"dynamic rnn: \", outputs)\n",
    "    sess.run(tf.global_variables_initializer())\n",
    "    pp.pprint(outputs.eval())"
   ]
  },
  {
   "cell_type": "code",
   "execution_count": 12,
   "metadata": {},
   "outputs": [
    {
     "name": "stdout",
     "output_type": "stream",
     "text": [
      "dynamic rnn:  Tensor(\"dynamic_rnn/rnn/transpose:0\", shape=(3, 5, 5), dtype=float32)\n",
      "array([[[ -3.21578860e-01,   1.75165832e-01,   7.27415234e-02,\n",
      "          -2.80022789e-02,  -8.90052970e-03],\n",
      "        [  0.00000000e+00,   0.00000000e+00,   0.00000000e+00,\n",
      "           0.00000000e+00,   0.00000000e+00],\n",
      "        [  0.00000000e+00,   0.00000000e+00,   0.00000000e+00,\n",
      "           0.00000000e+00,   0.00000000e+00],\n",
      "        [  0.00000000e+00,   0.00000000e+00,   0.00000000e+00,\n",
      "           0.00000000e+00,   0.00000000e+00],\n",
      "        [  0.00000000e+00,   0.00000000e+00,   0.00000000e+00,\n",
      "           0.00000000e+00,   0.00000000e+00]],\n",
      "\n",
      "       [[ -1.30618246e-05,   8.38171504e-03,   6.79395441e-03,\n",
      "           5.89703859e-06,   7.36367980e-11],\n",
      "        [ -1.45217164e-05,   4.90243221e-03,   3.75976134e-03,\n",
      "           8.18422052e-07,   1.72205512e-12],\n",
      "        [ -1.46848579e-05,   2.33063614e-03,   2.08668527e-03,\n",
      "           1.07676804e-07,   3.27396699e-14],\n",
      "        [  0.00000000e+00,   0.00000000e+00,   0.00000000e+00,\n",
      "           0.00000000e+00,   0.00000000e+00],\n",
      "        [  0.00000000e+00,   0.00000000e+00,   0.00000000e+00,\n",
      "           0.00000000e+00,   0.00000000e+00]],\n",
      "\n",
      "       [[ -2.27724006e-10,   1.73166016e-04,   3.54314543e-04,\n",
      "           2.43712134e-10,   1.55629470e-19],\n",
      "        [ -2.53175286e-10,   1.00676378e-04,   1.95943532e-04,\n",
      "           3.26238724e-11,   3.61977871e-21],\n",
      "        [  0.00000000e+00,   0.00000000e+00,   0.00000000e+00,\n",
      "           0.00000000e+00,   0.00000000e+00],\n",
      "        [  0.00000000e+00,   0.00000000e+00,   0.00000000e+00,\n",
      "           0.00000000e+00,   0.00000000e+00],\n",
      "        [  0.00000000e+00,   0.00000000e+00,   0.00000000e+00,\n",
      "           0.00000000e+00,   0.00000000e+00]]], dtype=float32)\n"
     ]
    }
   ],
   "source": [
    "with tf.variable_scope('dynamic_rnn') as scope:\n",
    "    cell = rnn.BasicLSTMCell(num_units=5, state_is_tuple=True)\n",
    "    outputs, _states = tf.nn.dynamic_rnn(cell, x_data, dtype=tf.float32,\n",
    "                                         sequence_length=[1, 3, 2])\n",
    "    # lentgh 1 for batch 1, lentgh 2 for batch 2\n",
    "    \n",
    "    print(\"dynamic rnn: \", outputs)\n",
    "    sess.run(tf.global_variables_initializer())\n",
    "    pp.pprint(outputs.eval())  # batch size, unrolling (time), hidden_size"
   ]
  },
  {
   "cell_type": "code",
   "execution_count": 13,
   "metadata": {},
   "outputs": [
    {
     "name": "stdout",
     "output_type": "stream",
     "text": [
      "(   array([[[  1.38200223e-01,   1.50990248e-01,  -5.75374588e-02,\n",
      "           6.82040527e-02,  -5.39839566e-02],\n",
      "        [  1.36694703e-02,   1.78428009e-01,  -6.84467959e-04,\n",
      "           8.35042968e-02,  -5.65271229e-02],\n",
      "        [  0.00000000e+00,   0.00000000e+00,   0.00000000e+00,\n",
      "           0.00000000e+00,   0.00000000e+00],\n",
      "        [  0.00000000e+00,   0.00000000e+00,   0.00000000e+00,\n",
      "           0.00000000e+00,   0.00000000e+00],\n",
      "        [  0.00000000e+00,   0.00000000e+00,   0.00000000e+00,\n",
      "           0.00000000e+00,   0.00000000e+00]],\n",
      "\n",
      "       [[  1.07994011e-13,   8.57330742e-04,  -1.74849501e-12,\n",
      "           6.04281881e-16,  -5.07376674e-15],\n",
      "        [  6.20634805e-15,   2.01033225e-04,  -1.86323023e-14,\n",
      "           6.05210917e-16,  -5.16752524e-15],\n",
      "        [  3.41355337e-16,   4.68419385e-05,  -1.50983279e-16,\n",
      "           6.05226217e-16,  -5.23627933e-15],\n",
      "        [  0.00000000e+00,   0.00000000e+00,   0.00000000e+00,\n",
      "           0.00000000e+00,   0.00000000e+00],\n",
      "        [  0.00000000e+00,   0.00000000e+00,   0.00000000e+00,\n",
      "           0.00000000e+00,   0.00000000e+00]],\n",
      "\n",
      "       [[  2.07214901e-26,   5.80332028e-07,  -4.40522933e-23,\n",
      "           3.59428557e-30,  -2.91779855e-28],\n",
      "        [  0.00000000e+00,   0.00000000e+00,   0.00000000e+00,\n",
      "           0.00000000e+00,   0.00000000e+00],\n",
      "        [  0.00000000e+00,   0.00000000e+00,   0.00000000e+00,\n",
      "           0.00000000e+00,   0.00000000e+00],\n",
      "        [  0.00000000e+00,   0.00000000e+00,   0.00000000e+00,\n",
      "           0.00000000e+00,   0.00000000e+00],\n",
      "        [  0.00000000e+00,   0.00000000e+00,   0.00000000e+00,\n",
      "           0.00000000e+00,   0.00000000e+00]]], dtype=float32),\n",
      "    array([[[  8.13229024e-01,  -1.33952975e-01,   9.46836472e-02,\n",
      "           7.70052001e-02,   2.69079003e-02],\n",
      "        [  7.02763319e-01,   1.49813769e-02,  -2.42715284e-01,\n",
      "           6.42215610e-02,   6.13087195e-06],\n",
      "        [  0.00000000e+00,   0.00000000e+00,   0.00000000e+00,\n",
      "           0.00000000e+00,   0.00000000e+00],\n",
      "        [  0.00000000e+00,   0.00000000e+00,   0.00000000e+00,\n",
      "           0.00000000e+00,   0.00000000e+00],\n",
      "        [  0.00000000e+00,   0.00000000e+00,   0.00000000e+00,\n",
      "           0.00000000e+00,   0.00000000e+00]],\n",
      "\n",
      "       [[  7.45284259e-01,   2.33706160e-05,  -4.14534241e-01,\n",
      "           3.21354996e-03,   8.01701996e-21],\n",
      "        [  7.49188662e-01,   3.12446377e-06,  -4.69304681e-01,\n",
      "           1.31055107e-03,   1.38944773e-24],\n",
      "        [  7.54175842e-01,   6.41389477e-07,  -6.83199584e-01,\n",
      "           7.34078523e-04,   1.34878062e-28],\n",
      "        [  0.00000000e+00,   0.00000000e+00,   0.00000000e+00,\n",
      "           0.00000000e+00,   0.00000000e+00],\n",
      "        [  0.00000000e+00,   0.00000000e+00,   0.00000000e+00,\n",
      "           0.00000000e+00,   0.00000000e+00]],\n",
      "\n",
      "       [[  7.59020567e-01,   1.76168768e-09,  -7.31654763e-01,\n",
      "           5.77872597e-05,   0.00000000e+00],\n",
      "        [  0.00000000e+00,   0.00000000e+00,   0.00000000e+00,\n",
      "           0.00000000e+00,   0.00000000e+00],\n",
      "        [  0.00000000e+00,   0.00000000e+00,   0.00000000e+00,\n",
      "           0.00000000e+00,   0.00000000e+00],\n",
      "        [  0.00000000e+00,   0.00000000e+00,   0.00000000e+00,\n",
      "           0.00000000e+00,   0.00000000e+00],\n",
      "        [  0.00000000e+00,   0.00000000e+00,   0.00000000e+00,\n",
      "           0.00000000e+00,   0.00000000e+00]]], dtype=float32))\n",
      "(   LSTMStateTuple(c=array([[  3.13368380e-01,   2.17687368e-01,  -1.37361348e+00,\n",
      "          8.82340521e-02,  -6.85281903e-02],\n",
      "       [  2.40578999e-07,   4.68419821e-05,  -2.32964373e+00,\n",
      "          6.05230081e-16,  -5.54810731e-15],\n",
      "       [  8.58310750e-14,   5.80332085e-07,  -8.06794584e-01,\n",
      "          3.59428632e-30,  -3.00969334e-28]], dtype=float32), h=array([[  1.36694703e-02,   1.78428009e-01,  -6.84467959e-04,\n",
      "          8.35042968e-02,  -5.65271229e-02],\n",
      "       [  3.41355337e-16,   4.68419385e-05,  -1.50983279e-16,\n",
      "          6.05226217e-16,  -5.23627933e-15],\n",
      "       [  2.07214901e-26,   5.80332028e-07,  -4.40522933e-23,\n",
      "          3.59428557e-30,  -2.91779855e-28]], dtype=float32)),\n",
      "    LSTMStateTuple(c=array([[  1.72032714e+00,  -2.11995721e-01,   1.06809959e-01,\n",
      "          2.15679243e-01,   2.55120069e-01],\n",
      "       [  1.00650001e+00,   2.33707160e-05,  -4.41073954e-01,\n",
      "          3.28736356e-03,   1.55283630e-07],\n",
      "       [  1.00000000e+00,   1.76168791e-09,  -9.32278931e-01,\n",
      "          5.78000618e-05,   4.87793094e-14]], dtype=float32), h=array([[  8.13229024e-01,  -1.33952975e-01,   9.46836472e-02,\n",
      "          7.70052001e-02,   2.69079003e-02],\n",
      "       [  7.45284259e-01,   2.33706160e-05,  -4.14534241e-01,\n",
      "          3.21354996e-03,   8.01701996e-21],\n",
      "       [  7.59020567e-01,   1.76168768e-09,  -7.31654763e-01,\n",
      "          5.77872597e-05,   0.00000000e+00]], dtype=float32)))\n"
     ]
    }
   ],
   "source": [
    "with tf.variable_scope('bi-directional') as scope:\n",
    "    # bi-directional rnn\n",
    "    cell_fw = rnn.BasicLSTMCell(num_units=5, state_is_tuple=True)\n",
    "    cell_bw = rnn.BasicLSTMCell(num_units=5, state_is_tuple=True)\n",
    "\n",
    "    outputs, states = tf.nn.bidirectional_dynamic_rnn(cell_fw, cell_bw, x_data,\n",
    "                                                      sequence_length=[2, 3, 1],\n",
    "                                                      dtype=tf.float32)\n",
    "\n",
    "    sess.run(tf.global_variables_initializer())\n",
    "    pp.pprint(sess.run(outputs))\n",
    "    pp.pprint(sess.run(states))"
   ]
  },
  {
   "cell_type": "markdown",
   "metadata": {},
   "source": [
    "*Seq2Seq Exercise"
   ]
  },
  {
   "cell_type": "code",
   "execution_count": 14,
   "metadata": {},
   "outputs": [
    {
     "name": "stdout",
     "output_type": "stream",
     "text": [
      "array([[[  0.,   1.,   2.,   3.,   4.],\n",
      "        [  5.,   6.,   7.,   8.,   9.],\n",
      "        [ 10.,  11.,  12.,  13.,  14.],\n",
      "        [ 15.,  16.,  17.,  18.,  19.],\n",
      "        [ 20.,  21.,  22.,  23.,  24.]],\n",
      "\n",
      "       [[ 25.,  26.,  27.,  28.,  29.],\n",
      "        [ 30.,  31.,  32.,  33.,  34.],\n",
      "        [ 35.,  36.,  37.,  38.,  39.],\n",
      "        [ 40.,  41.,  42.,  43.,  44.],\n",
      "        [ 45.,  46.,  47.,  48.,  49.]],\n",
      "\n",
      "       [[ 50.,  51.,  52.,  53.,  54.],\n",
      "        [ 55.,  56.,  57.,  58.,  59.],\n",
      "        [ 60.,  61.,  62.,  63.,  64.],\n",
      "        [ 65.,  66.,  67.,  68.,  69.],\n",
      "        [ 70.,  71.,  72.,  73.,  74.]]], dtype=float32)\n",
      "array([[  0.,   1.,   2.],\n",
      "       [  3.,   4.,   5.],\n",
      "       [  6.,   7.,   8.],\n",
      "       [  9.,  10.,  11.],\n",
      "       [ 12.,  13.,  14.],\n",
      "       [ 15.,  16.,  17.],\n",
      "       [ 18.,  19.,  20.],\n",
      "       [ 21.,  22.,  23.],\n",
      "       [ 24.,  25.,  26.],\n",
      "       [ 27.,  28.,  29.],\n",
      "       [ 30.,  31.,  32.],\n",
      "       [ 33.,  34.,  35.],\n",
      "       [ 36.,  37.,  38.],\n",
      "       [ 39.,  40.,  41.],\n",
      "       [ 42.,  43.,  44.],\n",
      "       [ 45.,  46.,  47.],\n",
      "       [ 48.,  49.,  50.],\n",
      "       [ 51.,  52.,  53.],\n",
      "       [ 54.,  55.,  56.],\n",
      "       [ 57.,  58.,  59.],\n",
      "       [ 60.,  61.,  62.],\n",
      "       [ 63.,  64.,  65.],\n",
      "       [ 66.,  67.,  68.],\n",
      "       [ 69.,  70.,  71.],\n",
      "       [ 72.,  73.,  74.]], dtype=float32)\n",
      "array([[[   25.,    28.,    31.,    34.,    37.],\n",
      "        [   70.,    82.,    94.,   106.,   118.],\n",
      "        [  115.,   136.,   157.,   178.,   199.],\n",
      "        [  160.,   190.,   220.,   250.,   280.],\n",
      "        [  205.,   244.,   283.,   322.,   361.]],\n",
      "\n",
      "       [[  250.,   298.,   346.,   394.,   442.],\n",
      "        [  295.,   352.,   409.,   466.,   523.],\n",
      "        [  340.,   406.,   472.,   538.,   604.],\n",
      "        [  385.,   460.,   535.,   610.,   685.],\n",
      "        [  430.,   514.,   598.,   682.,   766.]],\n",
      "\n",
      "       [[  475.,   568.,   661.,   754.,   847.],\n",
      "        [  520.,   622.,   724.,   826.,   928.],\n",
      "        [  565.,   676.,   787.,   898.,  1009.],\n",
      "        [  610.,   730.,   850.,   970.,  1090.],\n",
      "        [  655.,   784.,   913.,  1042.,  1171.]],\n",
      "\n",
      "       [[  700.,   838.,   976.,  1114.,  1252.],\n",
      "        [  745.,   892.,  1039.,  1186.,  1333.],\n",
      "        [  790.,   946.,  1102.,  1258.,  1414.],\n",
      "        [  835.,  1000.,  1165.,  1330.,  1495.],\n",
      "        [  880.,  1054.,  1228.,  1402.,  1576.]],\n",
      "\n",
      "       [[  925.,  1108.,  1291.,  1474.,  1657.],\n",
      "        [  970.,  1162.,  1354.,  1546.,  1738.],\n",
      "        [ 1015.,  1216.,  1417.,  1618.,  1819.],\n",
      "        [ 1060.,  1270.,  1480.,  1690.,  1900.],\n",
      "        [ 1105.,  1324.,  1543.,  1762.,  1981.]]], dtype=float32)\n"
     ]
    }
   ],
   "source": [
    "#flattern based softmax\n",
    "hidden_size = 3\n",
    "squence_length = 5\n",
    "batch_size = 3\n",
    "num_classes = 5\n",
    "\n",
    "pp.pprint(x_data)\n",
    "x_data = x_data.reshape(-1,hidden_size)\n",
    "pp.pprint(x_data)\n",
    "\n",
    "softmax_w = np.arange(15, dtype = np.float32).reshape(hidden_size,\n",
    "                                                     num_classes)\n",
    "outputs = np.matmul(x_data, softmax_w)\n",
    "outputs = outputs.reshape(-1, sequence_length, num_classes)\n",
    "# batch, seq, class\n",
    "pp.pprint(outputs)"
   ]
  },
  {
   "cell_type": "code",
   "execution_count": 15,
   "metadata": {},
   "outputs": [
    {
     "name": "stdout",
     "output_type": "stream",
     "text": [
      "Loss:  0.596759\n"
     ]
    }
   ],
   "source": [
    "# [batch_size, sequence_length]\n",
    "y_data = tf.constant([[1,1,1]])\n",
    "\n",
    "# [batch_size, sequence_length, emb_dim ]\n",
    "prediction = tf.constant([[[0.2, 0.7], [0.6, 0.2], [0.2, 0.9]]], dtype=tf.float32)\n",
    "\n",
    "# [batch_size * sequence_length]\n",
    "weights = tf.constant([[1,1,1]], dtype =tf.float32)\n",
    "sequence_loss = tf.contrib.seq2seq.sequence_loss(logits = prediction, \n",
    "                                                targets = y_data, weights = weights )\n",
    "sess.run(tf.global_variables_initializer())\n",
    "print(\"Loss: \", sequence_loss.eval())"
   ]
  },
  {
   "cell_type": "code",
   "execution_count": 16,
   "metadata": {},
   "outputs": [
    {
     "name": "stdout",
     "output_type": "stream",
     "text": [
      "Loss1:  0.513015 Loss2:  0.371101 Loss3:  1.31326 Loss4:  0.313262\n"
     ]
    }
   ],
   "source": [
    "# [batch_size, sequence_length]\n",
    "y_data = tf.constant([[1,1,1]])\n",
    "\n",
    "# [batch_size, sequence_length, emb_dim ]\n",
    "prediction1 = tf.constant([[[0.3,0.7],[0.3,0.7],[0.3,0.7]]], dtype = tf.float32)\n",
    "prediction2 = tf.constant([[[0.1,0.9],[0.1,0.9],[0.1,0.9]]], dtype = tf.float32)\n",
    "prediction3 = tf.constant([[[1,0],[1,0],[1,0]]], dtype = tf.float32)\n",
    "prediction4 = tf.constant([[[0,1],[0,1],[0,1]]], dtype = tf.float32)\n",
    "\n",
    "# [batch_size * sequence_length]\n",
    "weights = tf.constant([[1, 1, 1]], dtype=tf.float32)\n",
    "\n",
    "sequence_loss1 = tf.contrib.seq2seq.sequence_loss(prediction1, y_data, weights)\n",
    "sequence_loss2 = tf.contrib.seq2seq.sequence_loss(prediction2, y_data, weights)\n",
    "sequence_loss3 = tf.contrib.seq2seq.sequence_loss(prediction3, y_data, weights)\n",
    "sequence_loss4 = tf.contrib.seq2seq.sequence_loss(prediction4, y_data, weights)\n",
    "\n",
    "sess.run(tf.global_variables_initializer())\n",
    "print(\"Loss1: \", sequence_loss1.eval(),\n",
    "     \"Loss2: \", sequence_loss2.eval(),\n",
    "     \"Loss3: \", sequence_loss3.eval(),\n",
    "     \"Loss4: \", sequence_loss4.eval())"
   ]
  },
  {
   "cell_type": "code",
   "execution_count": null,
   "metadata": {
    "collapsed": true
   },
   "outputs": [],
   "source": []
  }
 ],
 "metadata": {
  "kernelspec": {
   "display_name": "Python 3",
   "language": "python",
   "name": "python3"
  },
  "language_info": {
   "codemirror_mode": {
    "name": "ipython",
    "version": 3
   },
   "file_extension": ".py",
   "mimetype": "text/x-python",
   "name": "python",
   "nbconvert_exporter": "python",
   "pygments_lexer": "ipython3",
   "version": "3.6.0"
  }
 },
 "nbformat": 4,
 "nbformat_minor": 2
}
