{
 "cells": [
  {
   "cell_type": "code",
   "execution_count": 1,
   "metadata": {
    "collapsed": true
   },
   "outputs": [],
   "source": [
    "import tensorflow as tf\n",
    "import numpy as np"
   ]
  },
  {
   "cell_type": "code",
   "execution_count": 2,
   "metadata": {
    "collapsed": true
   },
   "outputs": [],
   "source": [
    "tf.set_random_seed(777) \n",
    "sample = \" If you want you\"\n",
    "idx2char = list(set (sample)) #index -> char\n",
    "char2idx = {c:i for i , c in enumerate(idx2char)}"
   ]
  },
  {
   "cell_type": "code",
   "execution_count": 3,
   "metadata": {
    "collapsed": false
   },
   "outputs": [],
   "source": [
    "dic_size = len(char2idx) #RNN input size\n",
    "num_classes = len(char2idx)\n",
    "hidden_size = len(char2idx) #output size\n",
    "batch_size = 1\n",
    "sequence_length = len(sample) -1\n",
    "learning_rate = 0.1"
   ]
  },
  {
   "cell_type": "code",
   "execution_count": 4,
   "metadata": {
    "collapsed": false
   },
   "outputs": [],
   "source": [
    "sample_idx = [char2idx[c] for c in sample]\n",
    "x_data = [sample_idx[:-1]] # 0~n-1\n",
    "y_data = [sample_idx[1:]] # 1 ~ n"
   ]
  },
  {
   "cell_type": "code",
   "execution_count": 5,
   "metadata": {
    "collapsed": true
   },
   "outputs": [],
   "source": [
    "X = tf.placeholder(tf.int32,[None, sequence_length]) #X one-hot\n",
    "Y = tf.placeholder(tf.int32,[None, sequence_length]) #Y Label"
   ]
  },
  {
   "cell_type": "code",
   "execution_count": 6,
   "metadata": {
    "collapsed": false
   },
   "outputs": [],
   "source": [
    "x_one_hot = tf.one_hot(X, num_classes)\n",
    "cell = tf.contrib.rnn.BasicLSTMCell(num_units = hidden_size, state_is_tuple =True)\n",
    "initial_state = cell.zero_state(batch_size, tf.float32)\n",
    "outputs, _states = tf.nn.dynamic_rnn(cell, x_one_hot, initial_state =initial_state, dtype = tf.float32)"
   ]
  },
  {
   "cell_type": "code",
   "execution_count": 7,
   "metadata": {
    "collapsed": false
   },
   "outputs": [],
   "source": [
    "#FCL\n",
    "X_for_fc = tf.reshape(outputs, [-1, hidden_size])\n",
    "outputs = tf.contrib.layers.fully_connected(outputs, num_classes, activation_fn=None)"
   ]
  },
  {
   "cell_type": "code",
   "execution_count": 8,
   "metadata": {
    "collapsed": false
   },
   "outputs": [],
   "source": [
    "#reshape out for squence loss\n",
    "outputs = tf.reshape(outputs, [batch_size, sequence_length, num_classes])\n",
    "\n",
    "weights = tf.ones([batch_size, sequence_length])\n",
    "sequence_loss = tf.contrib.seq2seq.sequence_loss(\n",
    "    logits = outputs, targets = Y, weights= weights)\n",
    "loss = tf.reduce_mean(sequence_loss)\n",
    "train = tf.train.AdamOptimizer(learning_rate = learning_rate).minimize(loss)\n",
    "prediction = tf.argmax(outputs, axis=2)"
   ]
  },
  {
   "cell_type": "code",
   "execution_count": 9,
   "metadata": {
    "collapsed": false
   },
   "outputs": [
    {
     "name": "stdout",
     "output_type": "stream",
     "text": [
      "0 loss:  2.30233 prediction:  [[4 1 1 1 1 1 1 1 1 1 1 1 1 1 1]] true Y:  [[7, 2, 1, 6, 4, 8, 1, 9, 0, 5, 3, 1, 6, 4, 8]]\n",
      "\tPrediction str:  o              \n",
      "1 loss:  2.13579 prediction:  [[6 1 1 1 1 1 1 1 1 1 1 1 1 1 1]] true Y:  [[7, 2, 1, 6, 4, 8, 1, 9, 0, 5, 3, 1, 6, 4, 8]]\n",
      "\tPrediction str:  y              \n",
      "2 loss:  1.98594 prediction:  [[6 1 1 6 1 1 1 6 1 1 1 1 6 1 1]] true Y:  [[7, 2, 1, 6, 4, 8, 1, 9, 0, 5, 3, 1, 6, 4, 8]]\n",
      "\tPrediction str:  y  y   y    y  \n",
      "3 loss:  1.81954 prediction:  [[6 1 1 6 8 8 1 6 1 5 3 1 6 4 8]] true Y:  [[7, 2, 1, 6, 4, 8, 1, 9, 0, 5, 3, 1, 6, 4, 8]]\n",
      "\tPrediction str:  y  yuu y nt you\n",
      "4 loss:  1.59552 prediction:  [[6 1 1 6 8 8 1 6 1 5 3 1 6 4 8]] true Y:  [[7, 2, 1, 6, 4, 8, 1, 9, 0, 5, 3, 1, 6, 4, 8]]\n",
      "\tPrediction str:  y  yuu y nt you\n",
      "5 loss:  1.33687 prediction:  [[6 2 1 6 4 8 1 6 3 5 3 1 6 4 8]] true Y:  [[7, 2, 1, 6, 4, 8, 1, 9, 0, 5, 3, 1, 6, 4, 8]]\n",
      "\tPrediction str:  yf you ytnt you\n",
      "6 loss:  1.05865 prediction:  [[6 2 1 6 4 8 1 6 3 5 3 1 6 4 8]] true Y:  [[7, 2, 1, 6, 4, 8, 1, 9, 0, 5, 3, 1, 6, 4, 8]]\n",
      "\tPrediction str:  yf you ytnt you\n",
      "7 loss:  0.81018 prediction:  [[6 2 1 6 4 8 1 9 0 5 3 1 6 4 8]] true Y:  [[7, 2, 1, 6, 4, 8, 1, 9, 0, 5, 3, 1, 6, 4, 8]]\n",
      "\tPrediction str:  yf you want you\n",
      "8 loss:  0.601884 prediction:  [[6 2 1 6 4 8 1 9 0 5 3 1 6 4 8]] true Y:  [[7, 2, 1, 6, 4, 8, 1, 9, 0, 5, 3, 1, 6, 4, 8]]\n",
      "\tPrediction str:  yf you want you\n",
      "9 loss:  0.436804 prediction:  [[7 2 1 6 4 8 1 9 0 5 3 1 6 4 8]] true Y:  [[7, 2, 1, 6, 4, 8, 1, 9, 0, 5, 3, 1, 6, 4, 8]]\n",
      "\tPrediction str:  If you want you\n",
      "10 loss:  0.306174 prediction:  [[7 2 1 6 4 8 1 9 0 5 3 1 6 4 8]] true Y:  [[7, 2, 1, 6, 4, 8, 1, 9, 0, 5, 3, 1, 6, 4, 8]]\n",
      "\tPrediction str:  If you want you\n",
      "11 loss:  0.206713 prediction:  [[7 2 1 6 4 8 1 9 0 5 3 1 6 4 8]] true Y:  [[7, 2, 1, 6, 4, 8, 1, 9, 0, 5, 3, 1, 6, 4, 8]]\n",
      "\tPrediction str:  If you want you\n",
      "12 loss:  0.137265 prediction:  [[7 2 1 6 4 8 1 9 0 5 3 1 6 4 8]] true Y:  [[7, 2, 1, 6, 4, 8, 1, 9, 0, 5, 3, 1, 6, 4, 8]]\n",
      "\tPrediction str:  If you want you\n",
      "13 loss:  0.0893718 prediction:  [[7 2 1 6 4 8 1 9 0 5 3 1 6 4 8]] true Y:  [[7, 2, 1, 6, 4, 8, 1, 9, 0, 5, 3, 1, 6, 4, 8]]\n",
      "\tPrediction str:  If you want you\n",
      "14 loss:  0.0585016 prediction:  [[7 2 1 6 4 8 1 9 0 5 3 1 6 4 8]] true Y:  [[7, 2, 1, 6, 4, 8, 1, 9, 0, 5, 3, 1, 6, 4, 8]]\n",
      "\tPrediction str:  If you want you\n",
      "15 loss:  0.0395025 prediction:  [[7 2 1 6 4 8 1 9 0 5 3 1 6 4 8]] true Y:  [[7, 2, 1, 6, 4, 8, 1, 9, 0, 5, 3, 1, 6, 4, 8]]\n",
      "\tPrediction str:  If you want you\n",
      "16 loss:  0.027583 prediction:  [[7 2 1 6 4 8 1 9 0 5 3 1 6 4 8]] true Y:  [[7, 2, 1, 6, 4, 8, 1, 9, 0, 5, 3, 1, 6, 4, 8]]\n",
      "\tPrediction str:  If you want you\n",
      "17 loss:  0.019779 prediction:  [[7 2 1 6 4 8 1 9 0 5 3 1 6 4 8]] true Y:  [[7, 2, 1, 6, 4, 8, 1, 9, 0, 5, 3, 1, 6, 4, 8]]\n",
      "\tPrediction str:  If you want you\n",
      "18 loss:  0.0144742 prediction:  [[7 2 1 6 4 8 1 9 0 5 3 1 6 4 8]] true Y:  [[7, 2, 1, 6, 4, 8, 1, 9, 0, 5, 3, 1, 6, 4, 8]]\n",
      "\tPrediction str:  If you want you\n",
      "19 loss:  0.0107865 prediction:  [[7 2 1 6 4 8 1 9 0 5 3 1 6 4 8]] true Y:  [[7, 2, 1, 6, 4, 8, 1, 9, 0, 5, 3, 1, 6, 4, 8]]\n",
      "\tPrediction str:  If you want you\n",
      "20 loss:  0.00819193 prediction:  [[7 2 1 6 4 8 1 9 0 5 3 1 6 4 8]] true Y:  [[7, 2, 1, 6, 4, 8, 1, 9, 0, 5, 3, 1, 6, 4, 8]]\n",
      "\tPrediction str:  If you want you\n",
      "21 loss:  0.00634787 prediction:  [[7 2 1 6 4 8 1 9 0 5 3 1 6 4 8]] true Y:  [[7, 2, 1, 6, 4, 8, 1, 9, 0, 5, 3, 1, 6, 4, 8]]\n",
      "\tPrediction str:  If you want you\n",
      "22 loss:  0.00502155 prediction:  [[7 2 1 6 4 8 1 9 0 5 3 1 6 4 8]] true Y:  [[7, 2, 1, 6, 4, 8, 1, 9, 0, 5, 3, 1, 6, 4, 8]]\n",
      "\tPrediction str:  If you want you\n",
      "23 loss:  0.00405342 prediction:  [[7 2 1 6 4 8 1 9 0 5 3 1 6 4 8]] true Y:  [[7, 2, 1, 6, 4, 8, 1, 9, 0, 5, 3, 1, 6, 4, 8]]\n",
      "\tPrediction str:  If you want you\n",
      "24 loss:  0.00333493 prediction:  [[7 2 1 6 4 8 1 9 0 5 3 1 6 4 8]] true Y:  [[7, 2, 1, 6, 4, 8, 1, 9, 0, 5, 3, 1, 6, 4, 8]]\n",
      "\tPrediction str:  If you want you\n",
      "25 loss:  0.00279193 prediction:  [[7 2 1 6 4 8 1 9 0 5 3 1 6 4 8]] true Y:  [[7, 2, 1, 6, 4, 8, 1, 9, 0, 5, 3, 1, 6, 4, 8]]\n",
      "\tPrediction str:  If you want you\n",
      "26 loss:  0.00237353 prediction:  [[7 2 1 6 4 8 1 9 0 5 3 1 6 4 8]] true Y:  [[7, 2, 1, 6, 4, 8, 1, 9, 0, 5, 3, 1, 6, 4, 8]]\n",
      "\tPrediction str:  If you want you\n",
      "27 loss:  0.00204491 prediction:  [[7 2 1 6 4 8 1 9 0 5 3 1 6 4 8]] true Y:  [[7, 2, 1, 6, 4, 8, 1, 9, 0, 5, 3, 1, 6, 4, 8]]\n",
      "\tPrediction str:  If you want you\n",
      "28 loss:  0.00178215 prediction:  [[7 2 1 6 4 8 1 9 0 5 3 1 6 4 8]] true Y:  [[7, 2, 1, 6, 4, 8, 1, 9, 0, 5, 3, 1, 6, 4, 8]]\n",
      "\tPrediction str:  If you want you\n",
      "29 loss:  0.0015688 prediction:  [[7 2 1 6 4 8 1 9 0 5 3 1 6 4 8]] true Y:  [[7, 2, 1, 6, 4, 8, 1, 9, 0, 5, 3, 1, 6, 4, 8]]\n",
      "\tPrediction str:  If you want you\n",
      "30 loss:  0.00139311 prediction:  [[7 2 1 6 4 8 1 9 0 5 3 1 6 4 8]] true Y:  [[7, 2, 1, 6, 4, 8, 1, 9, 0, 5, 3, 1, 6, 4, 8]]\n",
      "\tPrediction str:  If you want you\n",
      "31 loss:  0.00124695 prediction:  [[7 2 1 6 4 8 1 9 0 5 3 1 6 4 8]] true Y:  [[7, 2, 1, 6, 4, 8, 1, 9, 0, 5, 3, 1, 6, 4, 8]]\n",
      "\tPrediction str:  If you want you\n",
      "32 loss:  0.00112426 prediction:  [[7 2 1 6 4 8 1 9 0 5 3 1 6 4 8]] true Y:  [[7, 2, 1, 6, 4, 8, 1, 9, 0, 5, 3, 1, 6, 4, 8]]\n",
      "\tPrediction str:  If you want you\n",
      "33 loss:  0.0010206 prediction:  [[7 2 1 6 4 8 1 9 0 5 3 1 6 4 8]] true Y:  [[7, 2, 1, 6, 4, 8, 1, 9, 0, 5, 3, 1, 6, 4, 8]]\n",
      "\tPrediction str:  If you want you\n",
      "34 loss:  0.000932535 prediction:  [[7 2 1 6 4 8 1 9 0 5 3 1 6 4 8]] true Y:  [[7, 2, 1, 6, 4, 8, 1, 9, 0, 5, 3, 1, 6, 4, 8]]\n",
      "\tPrediction str:  If you want you\n",
      "35 loss:  0.000857339 prediction:  [[7 2 1 6 4 8 1 9 0 5 3 1 6 4 8]] true Y:  [[7, 2, 1, 6, 4, 8, 1, 9, 0, 5, 3, 1, 6, 4, 8]]\n",
      "\tPrediction str:  If you want you\n",
      "36 loss:  0.000792945 prediction:  [[7 2 1 6 4 8 1 9 0 5 3 1 6 4 8]] true Y:  [[7, 2, 1, 6, 4, 8, 1, 9, 0, 5, 3, 1, 6, 4, 8]]\n",
      "\tPrediction str:  If you want you\n",
      "37 loss:  0.000737513 prediction:  [[7 2 1 6 4 8 1 9 0 5 3 1 6 4 8]] true Y:  [[7, 2, 1, 6, 4, 8, 1, 9, 0, 5, 3, 1, 6, 4, 8]]\n",
      "\tPrediction str:  If you want you\n",
      "38 loss:  0.000689651 prediction:  [[7 2 1 6 4 8 1 9 0 5 3 1 6 4 8]] true Y:  [[7, 2, 1, 6, 4, 8, 1, 9, 0, 5, 3, 1, 6, 4, 8]]\n",
      "\tPrediction str:  If you want you\n",
      "39 loss:  0.000648183 prediction:  [[7 2 1 6 4 8 1 9 0 5 3 1 6 4 8]] true Y:  [[7, 2, 1, 6, 4, 8, 1, 9, 0, 5, 3, 1, 6, 4, 8]]\n",
      "\tPrediction str:  If you want you\n",
      "40 loss:  0.000612112 prediction:  [[7 2 1 6 4 8 1 9 0 5 3 1 6 4 8]] true Y:  [[7, 2, 1, 6, 4, 8, 1, 9, 0, 5, 3, 1, 6, 4, 8]]\n",
      "\tPrediction str:  If you want you\n",
      "41 loss:  0.000580565 prediction:  [[7 2 1 6 4 8 1 9 0 5 3 1 6 4 8]] true Y:  [[7, 2, 1, 6, 4, 8, 1, 9, 0, 5, 3, 1, 6, 4, 8]]\n",
      "\tPrediction str:  If you want you\n",
      "42 loss:  0.000552923 prediction:  [[7 2 1 6 4 8 1 9 0 5 3 1 6 4 8]] true Y:  [[7, 2, 1, 6, 4, 8, 1, 9, 0, 5, 3, 1, 6, 4, 8]]\n",
      "\tPrediction str:  If you want you\n",
      "43 loss:  0.000528552 prediction:  [[7 2 1 6 4 8 1 9 0 5 3 1 6 4 8]] true Y:  [[7, 2, 1, 6, 4, 8, 1, 9, 0, 5, 3, 1, 6, 4, 8]]\n",
      "\tPrediction str:  If you want you\n",
      "44 loss:  0.000506975 prediction:  [[7 2 1 6 4 8 1 9 0 5 3 1 6 4 8]] true Y:  [[7, 2, 1, 6, 4, 8, 1, 9, 0, 5, 3, 1, 6, 4, 8]]\n",
      "\tPrediction str:  If you want you\n",
      "45 loss:  0.000487772 prediction:  [[7 2 1 6 4 8 1 9 0 5 3 1 6 4 8]] true Y:  [[7, 2, 1, 6, 4, 8, 1, 9, 0, 5, 3, 1, 6, 4, 8]]\n",
      "\tPrediction str:  If you want you\n",
      "46 loss:  0.000470657 prediction:  [[7 2 1 6 4 8 1 9 0 5 3 1 6 4 8]] true Y:  [[7, 2, 1, 6, 4, 8, 1, 9, 0, 5, 3, 1, 6, 4, 8]]\n",
      "\tPrediction str:  If you want you\n",
      "47 loss:  0.000455273 prediction:  [[7 2 1 6 4 8 1 9 0 5 3 1 6 4 8]] true Y:  [[7, 2, 1, 6, 4, 8, 1, 9, 0, 5, 3, 1, 6, 4, 8]]\n",
      "\tPrediction str:  If you want you\n",
      "48 loss:  0.000441382 prediction:  [[7 2 1 6 4 8 1 9 0 5 3 1 6 4 8]] true Y:  [[7, 2, 1, 6, 4, 8, 1, 9, 0, 5, 3, 1, 6, 4, 8]]\n",
      "\tPrediction str:  If you want you\n",
      "49 loss:  0.000428817 prediction:  [[7 2 1 6 4 8 1 9 0 5 3 1 6 4 8]] true Y:  [[7, 2, 1, 6, 4, 8, 1, 9, 0, 5, 3, 1, 6, 4, 8]]\n",
      "\tPrediction str:  If you want you\n"
     ]
    }
   ],
   "source": [
    "with tf.Session() as sess:\n",
    "    sess.run(tf.global_variables_initializer())\n",
    "    for i in range(50):\n",
    "        l, _ = sess.run([loss, train], feed_dict={X: x_data, Y: y_data})\n",
    "        result = sess.run(prediction, feed_dict = { X: x_data})\n",
    "        print( i, \"loss: \", l, \"prediction: \", result, \"true Y: \", y_data)\n",
    "        \n",
    "        # print char using dic\n",
    "        result_str = [idx2char[c] for c in np.squeeze(result)]\n",
    "        print(\"\\tPrediction str: \", ''.join(result_str))"
   ]
  },
  {
   "cell_type": "code",
   "execution_count": null,
   "metadata": {
    "collapsed": true
   },
   "outputs": [],
   "source": []
  }
 ],
 "metadata": {
  "kernelspec": {
   "display_name": "Python 3",
   "language": "python",
   "name": "python3"
  },
  "language_info": {
   "codemirror_mode": {
    "name": "ipython",
    "version": 3
   },
   "file_extension": ".py",
   "mimetype": "text/x-python",
   "name": "python",
   "nbconvert_exporter": "python",
   "pygments_lexer": "ipython3",
   "version": "3.6.0"
  }
 },
 "nbformat": 4,
 "nbformat_minor": 2
}
