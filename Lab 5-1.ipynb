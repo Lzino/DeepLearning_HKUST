{
 "cells": [
  {
   "cell_type": "code",
   "execution_count": 1,
   "metadata": {
    "collapsed": true
   },
   "outputs": [],
   "source": [
    "import tensorflow as tf"
   ]
  },
  {
   "cell_type": "code",
   "execution_count": 2,
   "metadata": {
    "collapsed": true
   },
   "outputs": [],
   "source": [
    "x_data = [[1, 2],\n",
    "          [2, 3],\n",
    "          [3, 1],\n",
    "          [4, 3],\n",
    "          [5, 3],\n",
    "          [6, 2]]\n",
    "# x1, x2\n",
    "y_data = [[0],\n",
    "          [0],\n",
    "          [0],\n",
    "          [1],\n",
    "          [1],\n",
    "          [1]]\n",
    "# y = 0 or 1"
   ]
  },
  {
   "cell_type": "code",
   "execution_count": 3,
   "metadata": {
    "collapsed": true
   },
   "outputs": [],
   "source": [
    "X = tf.placeholder(tf.float32, shape = [None, 2])\n",
    "#shape의 갯수는 2개\n",
    "Y = tf.placeholder(tf.float32, shape = [None, 1])\n",
    "W = tf.Variable(tf.random_normal([2,1]), name = 'weight')\n",
    "#input 2개 , output 1개\n",
    "b = tf.Variable(tf.random_normal([1]), name = 'bias')\n",
    "#Y = 1개"
   ]
  },
  {
   "cell_type": "code",
   "execution_count": 4,
   "metadata": {
    "collapsed": true
   },
   "outputs": [],
   "source": [
    "hypothesis = tf.sigmoid(tf.matmul(X,W) + b)"
   ]
  },
  {
   "cell_type": "code",
   "execution_count": 5,
   "metadata": {
    "collapsed": true
   },
   "outputs": [],
   "source": [
    "cost = -tf.reduce_mean(Y*tf.log(hypothesis)+ ( 1 - Y) * tf.log(1 - hypothesis))"
   ]
  },
  {
   "cell_type": "code",
   "execution_count": 6,
   "metadata": {
    "collapsed": true
   },
   "outputs": [],
   "source": [
    "train = tf.train.GradientDescentOptimizer(learning_rate = 0.01).minimize(cost)"
   ]
  },
  {
   "cell_type": "code",
   "execution_count": 7,
   "metadata": {
    "collapsed": true
   },
   "outputs": [],
   "source": [
    "#반올림 함수. 부울구현.\n",
    "predicted = tf.cast(hypothesis > 0.5, dtype = tf.float32)\n",
    "accuracy = tf.reduce_mean(tf.cast(tf.equal(predicted, Y) , dtype = tf.float32))"
   ]
  },
  {
   "cell_type": "code",
   "execution_count": 9,
   "metadata": {},
   "outputs": [
    {
     "name": "stdout",
     "output_type": "stream",
     "text": [
      "0 1.146\n",
      "200 0.578478\n",
      "400 0.545409\n",
      "600 0.520113\n",
      "800 0.498768\n",
      "1000 0.479727\n",
      "1200 0.462218\n",
      "1400 0.445855\n",
      "1600 0.43043\n",
      "1800 0.415825\n",
      "2000 0.401965\n",
      "2200 0.388795\n",
      "2400 0.376275\n",
      "2600 0.364369\n",
      "2800 0.353045\n",
      "3000 0.342272\n",
      "3200 0.332024\n",
      "3400 0.322271\n",
      "3600 0.312987\n",
      "3800 0.304147\n",
      "4000 0.295727\n",
      "4200 0.287702\n",
      "4400 0.280052\n",
      "4600 0.272754\n",
      "4800 0.265789\n",
      "5000 0.259138\n",
      "5200 0.252784\n",
      "5400 0.246709\n",
      "5600 0.240897\n",
      "5800 0.235335\n",
      "6000 0.230007\n",
      "6200 0.224902\n",
      "6400 0.220006\n",
      "6600 0.215309\n",
      "6800 0.210798\n",
      "7000 0.206466\n",
      "7200 0.202301\n",
      "7400 0.198295\n",
      "7600 0.19444\n",
      "7800 0.190728\n",
      "8000 0.187152\n",
      "8200 0.183705\n",
      "8400 0.180379\n",
      "8600 0.17717\n",
      "8800 0.174072\n",
      "9000 0.171079\n",
      "9200 0.168186\n",
      "9400 0.165388\n",
      "9600 0.162682\n",
      "9800 0.160062\n",
      "10000 0.157525\n",
      "\n",
      "Hypothesis:  [[ 0.0341889 ]\n",
      " [ 0.16327241]\n",
      " [ 0.32096586]\n",
      " [ 0.774122  ]\n",
      " [ 0.93490762]\n",
      " [ 0.9786154 ]] \n",
      "Correct (Y):  [[ 0.]\n",
      " [ 0.]\n",
      " [ 0.]\n",
      " [ 1.]\n",
      " [ 1.]\n",
      " [ 1.]] \n",
      "Accuracy:  1.0\n"
     ]
    }
   ],
   "source": [
    "with tf.Session() as sess:\n",
    "    sess.run(tf.global_variables_initializer())\n",
    "    \n",
    "    for step in range(10001):\n",
    "        cost_val, _ = sess.run([cost,train] , feed_dict = {X: x_data, Y: y_data})\n",
    "        if step % 200 == 0:\n",
    "            print(step, cost_val)\n",
    "        \n",
    "    # Accuracy report\n",
    "    h, c, a = sess.run([hypothesis, predicted, accuracy],\n",
    "                       feed_dict={X: x_data, Y: y_data})\n",
    "    print(\"\\nHypothesis: \", h, \"\\nCorrect (Y): \", c, \"\\nAccuracy: \", a)"
   ]
  },
  {
   "cell_type": "code",
   "execution_count": null,
   "metadata": {
    "collapsed": true
   },
   "outputs": [],
   "source": []
  }
 ],
 "metadata": {
  "kernelspec": {
   "display_name": "Python 3",
   "language": "python",
   "name": "python3"
  },
  "language_info": {
   "codemirror_mode": {
    "name": "ipython",
    "version": 3
   },
   "file_extension": ".py",
   "mimetype": "text/x-python",
   "name": "python",
   "nbconvert_exporter": "python",
   "pygments_lexer": "ipython3",
   "version": "3.6.0"
  }
 },
 "nbformat": 4,
 "nbformat_minor": 2
}
